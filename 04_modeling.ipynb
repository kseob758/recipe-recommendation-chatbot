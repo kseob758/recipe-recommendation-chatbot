{
 "cells": [
  {
   "attachments": {},
   "cell_type": "markdown",
   "metadata": {},
   "source": [
    "# NLP를 활용한 레시피 추천 챗봇 구현\n",
    "**개요**\n",
    "- Collection \n",
    "- Preprocessing\n",
    "- EDA\n",
    "- Embeddings\n",
    "- Modeling\n",
    "- Streamlit"
   ]
  },
  {
   "attachments": {},
   "cell_type": "markdown",
   "metadata": {},
   "source": [
    "## 5. Modeling\n",
    "**모델링 과정**\n",
    "1. 사전 학습된 모델을 Sentence Transformer 를 통해 불러오기\n",
    "2. 수집하고 기본적인 전처리를 거친 데이터를 위의 모델을 통해 임베딩 벡터로 변환한 파생변수 생성하기\n",
    "3. input 으로 사용자가 재료를 포함한 문자열을 입력하면 문장을 벡터화하여 기존의 임베딩 벡터와 코사인 유사도를 구하는 함수\n",
    "4. 코사인 유사도 상위 기준으로 n개를 output 으로 추천\n",
    "5. OpenAI 의 API 를 활용하여 사용자의 문장 형태 input 의 의도를 파악하여 모델링 함수를 실행하도록 연동\n",
    "6. streamlit 에 연동하여 배포\n"
   ]
  },
  {
   "attachments": {},
   "cell_type": "markdown",
   "metadata": {},
   "source": [
    "### 라이브러리 import"
   ]
  },
  {
   "cell_type": "code",
   "execution_count": 1,
   "metadata": {},
   "outputs": [],
   "source": [
    "# 데이터 분석\n",
    "import pandas as pd\n",
    "import numpy as np\n",
    "\n",
    "# 데이터 시각화\n",
    "import matplotlib.pyplot as plt\n",
    "import seaborn as sns\n",
    "\n",
    "# 진행시간 표시\n",
    "import swifter\n",
    "from tqdm.notebook import tqdm\n",
    "tqdm.pandas()"
   ]
  },
  {
   "cell_type": "code",
   "execution_count": 2,
   "metadata": {},
   "outputs": [],
   "source": [
    "# 파이토치\n",
    "import torch\n",
    "\n",
    "# 문장 임베딩, transformer 유틸리티\n",
    "from transformers import AutoTokenizer, AutoModel\n",
    "from sentence_transformers import SentenceTransformer, util\n",
    "from sentence_transformers import SentenceTransformer, models"
   ]
  },
  {
   "cell_type": "code",
   "execution_count": 3,
   "metadata": {},
   "outputs": [],
   "source": [
    "# 객체 복사\n",
    "import copy\n",
    "\n",
    "# JSON 형식 데이터 처리\n",
    "import json\n",
    "\n",
    "# 데이터 수집\n",
    "import requests"
   ]
  },
  {
   "cell_type": "code",
   "execution_count": 4,
   "metadata": {},
   "outputs": [],
   "source": [
    "# 데이터베이스 활용\n",
    "import sqlite3 \n",
    "import pickle"
   ]
  },
  {
   "cell_type": "code",
   "execution_count": 5,
   "metadata": {},
   "outputs": [],
   "source": [
    "# OpenAI API 활용\n",
    "import openai \n",
    "import os # 운영체제\n",
    "import sys # 파이썬 변수, 함수 엑세스 \n",
    "from dotenv import load_dotenv # 환경 변수 로드(API Key 보안)\n",
    "\n",
    "os.environ[\"TOKENIZERS_PARALLELISM\"] = \"false\"\n",
    "load_dotenv()\n",
    "openai.api_key = os.getenv('OPENAI_API_KEY')"
   ]
  },
  {
   "cell_type": "code",
   "execution_count": 6,
   "metadata": {},
   "outputs": [
    {
     "data": {
      "text/plain": [
       "'darwin'"
      ]
     },
     "execution_count": 6,
     "metadata": {},
     "output_type": "execute_result"
    }
   ],
   "source": [
    "# 실행 os 확인\n",
    "cur_os = sys.platform\n",
    "cur_os"
   ]
  },
  {
   "attachments": {},
   "cell_type": "markdown",
   "metadata": {},
   "source": [
    "### 데이터 불러오기"
   ]
  },
  {
   "cell_type": "code",
   "execution_count": 7,
   "metadata": {},
   "outputs": [
    {
     "data": {
      "text/plain": [
       "(4340, 12)"
      ]
     },
     "execution_count": 7,
     "metadata": {},
     "output_type": "execute_result"
    }
   ],
   "source": [
    "df = pd.read_pickle('data/compact_kosroberta_recipes.pkl')\n",
    "df.shape"
   ]
  },
  {
   "attachments": {},
   "cell_type": "markdown",
   "metadata": {},
   "source": [
    "### 파생 변수\n",
    "- feature1 = '재료'\n",
    "- feature2 = '재료' + '요리'\n",
    "- feature3 = '재료' + '요리' + '종류'\n",
    "- feature4 = '재료' + '요리' + '종류' + '난이도'\n",
    "- feature5 = '재료' + '요리' + '종류' + '난이도' + '요리방법'\n",
    "- **feature = '재료' + '요리' + '설명' + '종류' + '난이도' + '요리방법'**"
   ]
  },
  {
   "attachments": {},
   "cell_type": "markdown",
   "metadata": {},
   "source": [
    "### 모델 불러오기\n",
    "- model : Sentence Transformer\n",
    "- pre trained model : `jhgan/ko-sroberta-multitask`"
   ]
  },
  {
   "cell_type": "code",
   "execution_count": 8,
   "metadata": {},
   "outputs": [],
   "source": [
    "model_name = 'jhgan/ko-sroberta-multitask'"
   ]
  },
  {
   "cell_type": "code",
   "execution_count": 9,
   "metadata": {},
   "outputs": [
    {
     "data": {
      "text/plain": [
       "SentenceTransformer(\n",
       "  (0): Transformer({'max_seq_length': 128, 'do_lower_case': False}) with Transformer model: RobertaModel \n",
       "  (1): Pooling({'word_embedding_dimension': 768, 'pooling_mode_cls_token': False, 'pooling_mode_mean_tokens': True, 'pooling_mode_max_tokens': False, 'pooling_mode_mean_sqrt_len_tokens': False})\n",
       ")"
      ]
     },
     "execution_count": 9,
     "metadata": {},
     "output_type": "execute_result"
    }
   ],
   "source": [
    "model = SentenceTransformer(model_name)\n",
    "model"
   ]
  },
  {
   "cell_type": "code",
   "execution_count": 10,
   "metadata": {},
   "outputs": [
    {
     "data": {
      "text/plain": [
       "\"통깨 꼬시래기 식초 용냉면육수 매실청 쌈무 참기름 고춧가루 소금 오이 고추장 달걀꼬시래기 물냉면꼬시래기는 해조류의 한 종류인데요. 지방, 탄수화물 함량이 낮고 칼슘과 식이섬유를 풍부하게 함유하고 있는 건강 식품이에요. 쫄깃쫄깃하고 꼬들꼬들한 식감이 특징이라 면 대신 사용하기 좋습니다. 특히 냉면으로 만들어 먹으면 제격인데요. 간단한 재료들만 있으면 건강하면서도 시원한 꼬시래기 물냉면을 즐길 수 있답니다!메인요리쉬움['끓는 물에 소금, 식초, 꼬시래기를 넣어 30초 정도 데쳐주세요.\\\\r\\\\n(tip. 소금과 식초를 넣어 데치면 비린맛이 제거돼요)', '체에 받쳐 찬물에 충분히 헹궈 물기를 빼주세요. ', '오이는 채썰고 쌈무도 먹기 좋은 크기로 잘라주세요. 달걀은 반으로 잘라주세요.', '볼에 양념 재료를 넣어 섞어주세요. ', '그릇에 꼬시래기, 쌈무, 오이, 양념장, 달걀을 올려주세요. 통깨를 뿌린 후 달걀을 얹어주세요. 냉면 육수를 부어 완성해주세요. ']\""
      ]
     },
     "execution_count": 10,
     "metadata": {},
     "output_type": "execute_result"
    }
   ],
   "source": [
    "df['feature'][0]"
   ]
  },
  {
   "attachments": {},
   "cell_type": "markdown",
   "metadata": {},
   "source": [
    "## 콘텐츠 추천 함수(코사인 유사도 기반)"
   ]
  },
  {
   "cell_type": "code",
   "execution_count": 11,
   "metadata": {},
   "outputs": [],
   "source": [
    "def get_similar_recipes(query, model, df, exclude_ingredients=None, intent=None):\n",
    "    data = {'요리': df['요리'], 'feature': df['ko-sroberta-multitask-feature']}\n",
    "    query_encode = model.encode(query)\n",
    "    cos_scores = util.pytorch_cos_sim(query_encode, data['feature'])[0]\n",
    "    top_results = torch.topk(cos_scores, k=100)\n",
    "\n",
    "    # top_results에서 exclude 조건 적용\n",
    "    if exclude_ingredients:\n",
    "        if len(exclude_ingredients) > 1:\n",
    "            exclude_mask = np.array([any(exclude in row for exclude in exclude_ingredients) for row in df['재료']])\n",
    "        else:\n",
    "            exclude_mask = np.array([exclude_ingredients[0] in row for row in df['재료']])\n",
    "        exclude_idx = np.where(exclude_mask)[0]\n",
    "        exclude_idx_tensor = torch.tensor(exclude_idx)\n",
    "        top_results = (top_results[0][~torch.isin(top_results[1], exclude_idx_tensor)],\n",
    "                        top_results[1][~torch.isin(top_results[1], exclude_idx_tensor)])\n",
    "    \n",
    "    if intent == '1':\n",
    "        result_df = df.iloc[top_results[1].numpy(), :][['요리', '종류', '재료', '설명', '난이도', '링크']]\n",
    "        result_df = result_df.drop_duplicates(subset=['링크']).head(3)\n",
    "    elif intent == '2':\n",
    "        result_df = df.iloc[top_results[1].numpy(), :][['요리', '종류', '재료', '설명', '난이도', '링크']]\n",
    "        result_df = result_df.drop_duplicates(subset=['링크']).sample(3)\n",
    "    else:\n",
    "        result_df = df.iloc[top_results[1].numpy(), :][['요리', '종류', '재료', '설명', '난이도', '링크']]\n",
    "        result_df = result_df.drop_duplicates(subset=['링크']).head(5)\n",
    "    \n",
    "    return result_df"
   ]
  },
  {
   "cell_type": "code",
   "execution_count": 12,
   "metadata": {},
   "outputs": [
    {
     "name": "stderr",
     "output_type": "stream",
     "text": [
      "/Users/choimingue/anaconda3/envs/final/lib/python3.10/site-packages/sentence_transformers/util.py:39: UserWarning: Creating a tensor from a list of numpy.ndarrays is extremely slow. Please consider converting the list to a single numpy.ndarray with numpy.array() before converting to a tensor. (Triggered internally at /Users/runner/work/_temp/anaconda/conda-bld/pytorch_1678454852765/work/torch/csrc/utils/tensor_new.cpp:248.)\n",
      "  b = torch.tensor(b)\n"
     ]
    },
    {
     "data": {
      "text/html": [
       "<div>\n",
       "<style scoped>\n",
       "    .dataframe tbody tr th:only-of-type {\n",
       "        vertical-align: middle;\n",
       "    }\n",
       "\n",
       "    .dataframe tbody tr th {\n",
       "        vertical-align: top;\n",
       "    }\n",
       "\n",
       "    .dataframe thead th {\n",
       "        text-align: right;\n",
       "    }\n",
       "</style>\n",
       "<table border=\"1\" class=\"dataframe\">\n",
       "  <thead>\n",
       "    <tr style=\"text-align: right;\">\n",
       "      <th></th>\n",
       "      <th>요리</th>\n",
       "      <th>종류</th>\n",
       "      <th>재료</th>\n",
       "      <th>설명</th>\n",
       "      <th>난이도</th>\n",
       "      <th>링크</th>\n",
       "    </tr>\n",
       "  </thead>\n",
       "  <tbody>\n",
       "    <tr>\n",
       "      <th>3074</th>\n",
       "      <td>파인애플 오이 샐러드</td>\n",
       "      <td>양식</td>\n",
       "      <td>후춧가루 파인애플 양파 메이플시럽 고수 소금 라임 라임제스트 오이 올리브오일 라임즙</td>\n",
       "      <td>Welcome! 우식 와인 Bar!\\r\\n 말만 들어도 시원해지는 샐러드 레시피!...</td>\n",
       "      <td>쉬움</td>\n",
       "      <td>https://wtable.co.kr/recipes/Mb7rr7JyP9CnKAiin...</td>\n",
       "    </tr>\n",
       "    <tr>\n",
       "      <th>1804</th>\n",
       "      <td>오이 냉수프</td>\n",
       "      <td>간단요리</td>\n",
       "      <td>후춧가루 얼음 소금 오이 레몬 올리브오일</td>\n",
       "      <td>오이는 수분이 많고 찬 성질을 가지고 있어 몸의 열을 내리고 갈증을 풀어줍니다. 오...</td>\n",
       "      <td>쉬움</td>\n",
       "      <td>https://wtable.co.kr/recipes/JhTGA1Wrv8djRykzL...</td>\n",
       "    </tr>\n",
       "    <tr>\n",
       "      <th>2820</th>\n",
       "      <td>오이지무침</td>\n",
       "      <td>한식</td>\n",
       "      <td>통깨 참기름 다진마늘 설탕 홍고추 물엿 고춧가루 쪽파 오이지</td>\n",
       "      <td>여름 제철 재료인 오이! 수분이 많고 아삭거리는 식감 덕분에 오이를 좋아하는 분들...</td>\n",
       "      <td>쉬움</td>\n",
       "      <td>https://wtable.co.kr/recipes/otoQ5JpRjgNPpuDts...</td>\n",
       "    </tr>\n",
       "  </tbody>\n",
       "</table>\n",
       "</div>"
      ],
      "text/plain": [
       "               요리    종류                                              재료   \n",
       "3074  파인애플 오이 샐러드    양식  후춧가루 파인애플 양파 메이플시럽 고수 소금 라임 라임제스트 오이 올리브오일 라임즙  \\\n",
       "1804       오이 냉수프  간단요리                          후춧가루 얼음 소금 오이 레몬 올리브오일   \n",
       "2820        오이지무침    한식               통깨 참기름 다진마늘 설탕 홍고추 물엿 고춧가루 쪽파 오이지   \n",
       "\n",
       "                                                     설명 난이도   \n",
       "3074   Welcome! 우식 와인 Bar!\\r\\n 말만 들어도 시원해지는 샐러드 레시피!...  쉬움  \\\n",
       "1804  오이는 수분이 많고 찬 성질을 가지고 있어 몸의 열을 내리고 갈증을 풀어줍니다. 오...  쉬움   \n",
       "2820   여름 제철 재료인 오이! 수분이 많고 아삭거리는 식감 덕분에 오이를 좋아하는 분들...  쉬움   \n",
       "\n",
       "                                                     링크  \n",
       "3074  https://wtable.co.kr/recipes/Mb7rr7JyP9CnKAiin...  \n",
       "1804  https://wtable.co.kr/recipes/JhTGA1Wrv8djRykzL...  \n",
       "2820  https://wtable.co.kr/recipes/otoQ5JpRjgNPpuDts...  "
      ]
     },
     "execution_count": 12,
     "metadata": {},
     "output_type": "execute_result"
    }
   ],
   "source": [
    "# 일반 추천\n",
    "include = '여름 메뉴 추천해줘'\n",
    "intent = '1'\n",
    "exclude = []\n",
    "result = get_similar_recipes(include, model, df, exclude_ingredients=exclude, intent=intent)\n",
    "result"
   ]
  },
  {
   "cell_type": "code",
   "execution_count": 13,
   "metadata": {},
   "outputs": [
    {
     "data": {
      "text/html": [
       "<div>\n",
       "<style scoped>\n",
       "    .dataframe tbody tr th:only-of-type {\n",
       "        vertical-align: middle;\n",
       "    }\n",
       "\n",
       "    .dataframe tbody tr th {\n",
       "        vertical-align: top;\n",
       "    }\n",
       "\n",
       "    .dataframe thead th {\n",
       "        text-align: right;\n",
       "    }\n",
       "</style>\n",
       "<table border=\"1\" class=\"dataframe\">\n",
       "  <thead>\n",
       "    <tr style=\"text-align: right;\">\n",
       "      <th></th>\n",
       "      <th>요리</th>\n",
       "      <th>종류</th>\n",
       "      <th>재료</th>\n",
       "      <th>설명</th>\n",
       "      <th>난이도</th>\n",
       "      <th>링크</th>\n",
       "    </tr>\n",
       "  </thead>\n",
       "  <tbody>\n",
       "    <tr>\n",
       "      <th>12</th>\n",
       "      <td>[우정욱 요리연구가] 봄 채소 영양솥밥</td>\n",
       "      <td>메인요리</td>\n",
       "      <td>현미튀김 냉동유부 우엉 설탕 흑곤약 쌀 냉이 깻잎순 소금 생표고 물 양조간장 미림 ...</td>\n",
       "      <td>별다른 반찬 없이 한 그릇만으로도 만족스러운 식사를 선물하는 솥밥이 요즘의 트렌드잖...</td>\n",
       "      <td>보통</td>\n",
       "      <td>https://wtable.co.kr/recipes/iKnuu9Ro34oKaCNdr...</td>\n",
       "    </tr>\n",
       "    <tr>\n",
       "      <th>1260</th>\n",
       "      <td>과일아이스바</td>\n",
       "      <td>초대요리</td>\n",
       "      <td>올리고당 아이스바몰드 블루베리 민트잎 청포도주스 천도복숭아 체리 키위</td>\n",
       "      <td>집에서 만든 시원하고 건강한 간식, 과일 아이스바예요. 별다른 장식 없이도 콕콕 박...</td>\n",
       "      <td>쉬움</td>\n",
       "      <td>https://wtable.co.kr/recipes/3zTes1ZpAXi6MwmTL...</td>\n",
       "    </tr>\n",
       "    <tr>\n",
       "      <th>1873</th>\n",
       "      <td>가지 냉국</td>\n",
       "      <td>간단요리</td>\n",
       "      <td>양조식초 진간장 설탕 홍고추 양파 가지 물</td>\n",
       "      <td>여름 제철 채소 가지의 특별한 변신. 뜨거운 여름날에도 뼛속까지 시원하게 즐기는 입...</td>\n",
       "      <td>쉬움</td>\n",
       "      <td>https://wtable.co.kr/recipes/1yBzxrws5xiTzxVxU...</td>\n",
       "    </tr>\n",
       "  </tbody>\n",
       "</table>\n",
       "</div>"
      ],
      "text/plain": [
       "                         요리    종류   \n",
       "12    [우정욱 요리연구가] 봄 채소 영양솥밥  메인요리  \\\n",
       "1260                 과일아이스바  초대요리   \n",
       "1873                 가지 냉국   간단요리   \n",
       "\n",
       "                                                     재료   \n",
       "12    현미튀김 냉동유부 우엉 설탕 흑곤약 쌀 냉이 깻잎순 소금 생표고 물 양조간장 미림 ...  \\\n",
       "1260             올리고당 아이스바몰드 블루베리 민트잎 청포도주스 천도복숭아 체리 키위   \n",
       "1873                            양조식초 진간장 설탕 홍고추 양파 가지 물   \n",
       "\n",
       "                                                     설명 난이도   \n",
       "12    별다른 반찬 없이 한 그릇만으로도 만족스러운 식사를 선물하는 솥밥이 요즘의 트렌드잖...  보통  \\\n",
       "1260  집에서 만든 시원하고 건강한 간식, 과일 아이스바예요. 별다른 장식 없이도 콕콕 박...  쉬움   \n",
       "1873  여름 제철 채소 가지의 특별한 변신. 뜨거운 여름날에도 뼛속까지 시원하게 즐기는 입...  쉬움   \n",
       "\n",
       "                                                     링크  \n",
       "12    https://wtable.co.kr/recipes/iKnuu9Ro34oKaCNdr...  \n",
       "1260  https://wtable.co.kr/recipes/3zTes1ZpAXi6MwmTL...  \n",
       "1873  https://wtable.co.kr/recipes/1yBzxrws5xiTzxVxU...  "
      ]
     },
     "execution_count": 13,
     "metadata": {},
     "output_type": "execute_result"
    }
   ],
   "source": [
    "# 재추천\n",
    "include = '여름 메뉴 추천해줘'\n",
    "intent = '2'\n",
    "exclude = []\n",
    "result = get_similar_recipes(include, model, df, exclude_ingredients=exclude, intent=intent)\n",
    "result"
   ]
  },
  {
   "cell_type": "code",
   "execution_count": 14,
   "metadata": {},
   "outputs": [
    {
     "data": {
      "text/html": [
       "<div>\n",
       "<style scoped>\n",
       "    .dataframe tbody tr th:only-of-type {\n",
       "        vertical-align: middle;\n",
       "    }\n",
       "\n",
       "    .dataframe tbody tr th {\n",
       "        vertical-align: top;\n",
       "    }\n",
       "\n",
       "    .dataframe thead th {\n",
       "        text-align: right;\n",
       "    }\n",
       "</style>\n",
       "<table border=\"1\" class=\"dataframe\">\n",
       "  <thead>\n",
       "    <tr style=\"text-align: right;\">\n",
       "      <th></th>\n",
       "      <th>요리</th>\n",
       "      <th>종류</th>\n",
       "      <th>재료</th>\n",
       "      <th>설명</th>\n",
       "      <th>난이도</th>\n",
       "      <th>링크</th>\n",
       "    </tr>\n",
       "  </thead>\n",
       "  <tbody>\n",
       "    <tr>\n",
       "      <th>1494</th>\n",
       "      <td>토마토빙수</td>\n",
       "      <td>간식</td>\n",
       "      <td>연유 스노우요거트얼음 설탕 완숙토마토 다진피스타치오 플레인요거트 바질잎 토마토퓌레 우유</td>\n",
       "      <td>여름아 안녕! 여름이 점점 다가오고 있어요. 여름에 아이들이 가장 먼저 찾는 음식...</td>\n",
       "      <td>쉬움</td>\n",
       "      <td>https://wtable.co.kr/recipes/ZYJAE5LVy1wCv36Zi...</td>\n",
       "    </tr>\n",
       "    <tr>\n",
       "      <th>4109</th>\n",
       "      <td>템페 구이 &amp; 퀴노아 샐러드 밀프렙</td>\n",
       "      <td>키토</td>\n",
       "      <td>템페 후추 식초 메이플시럽 소금 간장 올리브오일 파프리카파우더</td>\n",
       "      <td>바쁜 일상 중 단백질이 가득한 식단을 챙기기란 쉽지 않죠? 그렇다면 미리 준비해놓고...</td>\n",
       "      <td>보통</td>\n",
       "      <td>https://wtable.co.kr/recipes/padCkSrxLSYaY61oc...</td>\n",
       "    </tr>\n",
       "    <tr>\n",
       "      <th>1487</th>\n",
       "      <td>복숭아 병조림</td>\n",
       "      <td>간식</td>\n",
       "      <td>설탕 물 레몬즙 베이킹소다 단단한복숭아</td>\n",
       "      <td>추억이 가득한 여름을 그냥 보낼 수는 없죠. 여름을 추억하는 방법! 여름 과일 복...</td>\n",
       "      <td>쉬움</td>\n",
       "      <td>https://wtable.co.kr/recipes/P9787UdUdzMYgUovT...</td>\n",
       "    </tr>\n",
       "  </tbody>\n",
       "</table>\n",
       "</div>"
      ],
      "text/plain": [
       "                       요리  종류   \n",
       "1494                토마토빙수  간식  \\\n",
       "4109  템페 구이 & 퀴노아 샐러드 밀프렙  키토   \n",
       "1487              복숭아 병조림  간식   \n",
       "\n",
       "                                                    재료   \n",
       "1494  연유 스노우요거트얼음 설탕 완숙토마토 다진피스타치오 플레인요거트 바질잎 토마토퓌레 우유  \\\n",
       "4109                템페 후추 식초 메이플시럽 소금 간장 올리브오일 파프리카파우더   \n",
       "1487                             설탕 물 레몬즙 베이킹소다 단단한복숭아   \n",
       "\n",
       "                                                     설명 난이도   \n",
       "1494   여름아 안녕! 여름이 점점 다가오고 있어요. 여름에 아이들이 가장 먼저 찾는 음식...  쉬움  \\\n",
       "4109  바쁜 일상 중 단백질이 가득한 식단을 챙기기란 쉽지 않죠? 그렇다면 미리 준비해놓고...  보통   \n",
       "1487   추억이 가득한 여름을 그냥 보낼 수는 없죠. 여름을 추억하는 방법! 여름 과일 복...  쉬움   \n",
       "\n",
       "                                                     링크  \n",
       "1494  https://wtable.co.kr/recipes/ZYJAE5LVy1wCv36Zi...  \n",
       "4109  https://wtable.co.kr/recipes/padCkSrxLSYaY61oc...  \n",
       "1487  https://wtable.co.kr/recipes/P9787UdUdzMYgUovT...  "
      ]
     },
     "execution_count": 14,
     "metadata": {},
     "output_type": "execute_result"
    }
   ],
   "source": [
    "# 단일 제외\n",
    "include = '여름 메뉴 추천해줘'\n",
    "intent = '1'\n",
    "exclude = ['오이']\n",
    "result = get_similar_recipes(include, model, df, exclude_ingredients=exclude, intent=intent)\n",
    "result"
   ]
  },
  {
   "cell_type": "code",
   "execution_count": 15,
   "metadata": {},
   "outputs": [
    {
     "data": {
      "text/html": [
       "<div>\n",
       "<style scoped>\n",
       "    .dataframe tbody tr th:only-of-type {\n",
       "        vertical-align: middle;\n",
       "    }\n",
       "\n",
       "    .dataframe tbody tr th {\n",
       "        vertical-align: top;\n",
       "    }\n",
       "\n",
       "    .dataframe thead th {\n",
       "        text-align: right;\n",
       "    }\n",
       "</style>\n",
       "<table border=\"1\" class=\"dataframe\">\n",
       "  <thead>\n",
       "    <tr style=\"text-align: right;\">\n",
       "      <th></th>\n",
       "      <th>요리</th>\n",
       "      <th>종류</th>\n",
       "      <th>재료</th>\n",
       "      <th>설명</th>\n",
       "      <th>난이도</th>\n",
       "      <th>링크</th>\n",
       "    </tr>\n",
       "  </thead>\n",
       "  <tbody>\n",
       "    <tr>\n",
       "      <th>4109</th>\n",
       "      <td>템페 구이 &amp; 퀴노아 샐러드 밀프렙</td>\n",
       "      <td>키토</td>\n",
       "      <td>템페 후추 식초 메이플시럽 소금 간장 올리브오일 파프리카파우더</td>\n",
       "      <td>바쁜 일상 중 단백질이 가득한 식단을 챙기기란 쉽지 않죠? 그렇다면 미리 준비해놓고...</td>\n",
       "      <td>보통</td>\n",
       "      <td>https://wtable.co.kr/recipes/padCkSrxLSYaY61oc...</td>\n",
       "    </tr>\n",
       "    <tr>\n",
       "      <th>1487</th>\n",
       "      <td>복숭아 병조림</td>\n",
       "      <td>간식</td>\n",
       "      <td>설탕 물 레몬즙 베이킹소다 단단한복숭아</td>\n",
       "      <td>추억이 가득한 여름을 그냥 보낼 수는 없죠. 여름을 추억하는 방법! 여름 과일 복...</td>\n",
       "      <td>쉬움</td>\n",
       "      <td>https://wtable.co.kr/recipes/P9787UdUdzMYgUovT...</td>\n",
       "    </tr>\n",
       "    <tr>\n",
       "      <th>885</th>\n",
       "      <td>새우튀김냉메밀</td>\n",
       "      <td>메인요리</td>\n",
       "      <td>실파 다시마 소금 맛술 물 간장 무순 김 식용유 무 가쓰오부시 고추냉이 튀김가루 설...</td>\n",
       "      <td>여름철 더위로 입맛이 없을 때는 시원한 국수 한 그릇만한 게 없지요. 특히 메밀은 ...</td>\n",
       "      <td>보통</td>\n",
       "      <td>https://wtable.co.kr/recipes/LjiJ7qCnJ3V4ZxdnW...</td>\n",
       "    </tr>\n",
       "  </tbody>\n",
       "</table>\n",
       "</div>"
      ],
      "text/plain": [
       "                       요리    종류   \n",
       "4109  템페 구이 & 퀴노아 샐러드 밀프렙    키토  \\\n",
       "1487              복숭아 병조림    간식   \n",
       "885               새우튀김냉메밀  메인요리   \n",
       "\n",
       "                                                     재료   \n",
       "4109                 템페 후추 식초 메이플시럽 소금 간장 올리브오일 파프리카파우더  \\\n",
       "1487                              설탕 물 레몬즙 베이킹소다 단단한복숭아   \n",
       "885   실파 다시마 소금 맛술 물 간장 무순 김 식용유 무 가쓰오부시 고추냉이 튀김가루 설...   \n",
       "\n",
       "                                                     설명 난이도   \n",
       "4109  바쁜 일상 중 단백질이 가득한 식단을 챙기기란 쉽지 않죠? 그렇다면 미리 준비해놓고...  보통  \\\n",
       "1487   추억이 가득한 여름을 그냥 보낼 수는 없죠. 여름을 추억하는 방법! 여름 과일 복...  쉬움   \n",
       "885   여름철 더위로 입맛이 없을 때는 시원한 국수 한 그릇만한 게 없지요. 특히 메밀은 ...  보통   \n",
       "\n",
       "                                                     링크  \n",
       "4109  https://wtable.co.kr/recipes/padCkSrxLSYaY61oc...  \n",
       "1487  https://wtable.co.kr/recipes/P9787UdUdzMYgUovT...  \n",
       "885   https://wtable.co.kr/recipes/LjiJ7qCnJ3V4ZxdnW...  "
      ]
     },
     "execution_count": 15,
     "metadata": {},
     "output_type": "execute_result"
    }
   ],
   "source": [
    "# 다중 제외\n",
    "include = '여름 메뉴 추천해줘'\n",
    "intent = '1'\n",
    "exclude = ['오이', '토마토']\n",
    "result = get_similar_recipes(include, model, df, exclude_ingredients=exclude, intent=intent)\n",
    "result"
   ]
  },
  {
   "attachments": {},
   "cell_type": "markdown",
   "metadata": {},
   "source": [
    "## ChatGPT 연동하기\n",
    "### 세 가지 Role\n",
    "- user : 마치 채팅하는 것처럼 ChatGPT에 직접 무언가를 물어보고 싶을 때 사용하는 role (ex. \"Please explain what AI is\")\n",
    "- system : 유저에게 메시지를 받기 전에 모델을 초기화하거나 구성하려는 경우 사용하는 role (ex. \"You are a helpful kindergarten teacher talking to children\")\n",
    "- assistant : 이전에 ChatGPT가 유저에게 보낸 메시지가 무엇인지 알려주는 role. 유저와 어시스턴트 사이의 대화를 저장하고 어시스턴트에게 이전 대화를 전달하여 응답값을 조정할 수 있음. (ex. 이전까지의 대화를 기억하게 함으로써 명사 -> 대명사로 이어지는 맥락을 이해할 수 있도록 해줌)\n",
    "### Fine tuning\n",
    "Role 을 지정하는 것 이외에 Fine-tuning 을 활용하는 것이 실제 서비스에서는 더 이상적인 형태\n",
    "사용자의 데이터를 가지고 특정 태스크에 알맞게 커스텀하는 것\n",
    "- `{\"prompt\" : \"I really like this recipe!\", \"completion\" : \"positive\"}`\n",
    "- `{\"prompt\" : \"I'd like to leave out the cucumber.\", \"completion\" : \"negative\"}`"
   ]
  }
 ],
 "metadata": {
  "kernelspec": {
   "display_name": "final",
   "language": "python",
   "name": "python3"
  },
  "language_info": {
   "codemirror_mode": {
    "name": "ipython",
    "version": 3
   },
   "file_extension": ".py",
   "mimetype": "text/x-python",
   "name": "python",
   "nbconvert_exporter": "python",
   "pygments_lexer": "ipython3",
   "version": "3.10.10"
  },
  "orig_nbformat": 4
 },
 "nbformat": 4,
 "nbformat_minor": 2
}
