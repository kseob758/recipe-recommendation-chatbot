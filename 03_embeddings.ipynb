{
 "cells": [
  {
   "attachments": {},
   "cell_type": "markdown",
   "metadata": {},
   "source": [
    "# NLP를 활용한 레시피 추천 챗봇 구현\n",
    "**개요**\n",
    "- Collection \n",
    "- Preprocessing\n",
    "- EDA\n",
    "- Embeddings\n",
    "- Modeling\n",
    "- Streamlit"
   ]
  },
  {
   "attachments": {},
   "cell_type": "markdown",
   "metadata": {},
   "source": [
    "## 4. Embeddings\n",
    "**모델링 과정**\n",
    "1. 사전 학습된 모델을 Sentence Transformer 를 통해 불러오기\n",
    "2. 수집하고 기본적인 전처리를 거친 데이터를 위의 모델을 통해 임베딩 벡터로 변환한 파생변수 생성하기\n",
    "3. input 으로 사용자가 재료를 포함한 문자열을 입력하면 문장을 벡터화하여 기존의 임베딩 벡터와 코사인 유사도를 구하는 함수\n",
    "4. 코사인 유사도 상위 기준으로 n개를 output 으로 추천\n",
    "5. OpenAI 의 API 를 활용하여 사용자의 문장 형태 input 의 의도를 파악하여 모델링 함수를 실행하도록 연동\n",
    "6. streamlit 에 연동하여 배포\n"
   ]
  },
  {
   "attachments": {},
   "cell_type": "markdown",
   "metadata": {},
   "source": [
    "### 라이브러리 import"
   ]
  },
  {
   "cell_type": "code",
   "execution_count": 1,
   "metadata": {},
   "outputs": [],
   "source": [
    "# 데이터 분석\n",
    "import pandas as pd\n",
    "import numpy as np\n",
    "\n",
    "# 데이터 시각화\n",
    "import matplotlib.pyplot as plt\n",
    "import seaborn as sns\n",
    "\n",
    "# 진행시간 표시\n",
    "import swifter\n",
    "from tqdm.notebook import tqdm\n",
    "tqdm.pandas()"
   ]
  },
  {
   "cell_type": "code",
   "execution_count": 2,
   "metadata": {},
   "outputs": [],
   "source": [
    "# 파이토치\n",
    "import torch\n",
    "\n",
    "# 문장 임베딩, transformer 유틸리티\n",
    "from transformers import AutoTokenizer, AutoModel\n",
    "from sentence_transformers import SentenceTransformer, util\n",
    "from sentence_transformers import SentenceTransformer, models"
   ]
  },
  {
   "cell_type": "code",
   "execution_count": 3,
   "metadata": {},
   "outputs": [],
   "source": [
    "# 객체 복사\n",
    "import copy\n",
    "\n",
    "# JSON 형식 데이터 처리\n",
    "import json\n",
    "\n",
    "# 데이터 수집\n",
    "import requests"
   ]
  },
  {
   "cell_type": "code",
   "execution_count": 4,
   "metadata": {},
   "outputs": [],
   "source": [
    "# 데이터베이스 활용\n",
    "import sqlite3 \n",
    "import pickle"
   ]
  },
  {
   "cell_type": "code",
   "execution_count": 5,
   "metadata": {},
   "outputs": [],
   "source": [
    "# OpenAI API 활용\n",
    "import openai \n",
    "import os # 운영체제\n",
    "import sys # 파이썬 변수, 함수 엑세스 \n",
    "from dotenv import load_dotenv # 환경 변수 로드(API Key 보안)\n",
    "\n",
    "os.environ[\"TOKENIZERS_PARALLELISM\"] = \"false\"\n",
    "load_dotenv()    \n",
    "openai.api_key = os.getenv('OPENAI_API_KEY')"
   ]
  },
  {
   "cell_type": "code",
   "execution_count": 6,
   "metadata": {},
   "outputs": [
    {
     "data": {
      "text/plain": [
       "'darwin'"
      ]
     },
     "execution_count": 6,
     "metadata": {},
     "output_type": "execute_result"
    }
   ],
   "source": [
    "# 실행 os 확인\n",
    "cur_os = sys.platform\n",
    "cur_os"
   ]
  },
  {
   "attachments": {},
   "cell_type": "markdown",
   "metadata": {},
   "source": [
    "### 데이터 불러오기"
   ]
  },
  {
   "cell_type": "code",
   "execution_count": 8,
   "metadata": {},
   "outputs": [
    {
     "data": {
      "text/plain": [
       "(4340, 10)"
      ]
     },
     "execution_count": 8,
     "metadata": {},
     "output_type": "execute_result"
    }
   ],
   "source": [
    "df = pd.read_csv('data/preprocessed_recipes.csv')\n",
    "df.shape"
   ]
  },
  {
   "cell_type": "code",
   "execution_count": 9,
   "metadata": {},
   "outputs": [
    {
     "data": {
      "text/html": [
       "<div>\n",
       "<style scoped>\n",
       "    .dataframe tbody tr th:only-of-type {\n",
       "        vertical-align: middle;\n",
       "    }\n",
       "\n",
       "    .dataframe tbody tr th {\n",
       "        vertical-align: top;\n",
       "    }\n",
       "\n",
       "    .dataframe thead th {\n",
       "        text-align: right;\n",
       "    }\n",
       "</style>\n",
       "<table border=\"1\" class=\"dataframe\">\n",
       "  <thead>\n",
       "    <tr style=\"text-align: right;\">\n",
       "      <th></th>\n",
       "      <th>요리</th>\n",
       "      <th>종류</th>\n",
       "      <th>난이도</th>\n",
       "      <th>소요시간</th>\n",
       "      <th>링크</th>\n",
       "      <th>사진</th>\n",
       "      <th>재료</th>\n",
       "      <th>요리방법</th>\n",
       "      <th>설명</th>\n",
       "      <th>재료수</th>\n",
       "    </tr>\n",
       "  </thead>\n",
       "  <tbody>\n",
       "    <tr>\n",
       "      <th>0</th>\n",
       "      <td>꼬시래기 물냉면</td>\n",
       "      <td>메인요리</td>\n",
       "      <td>1</td>\n",
       "      <td>20</td>\n",
       "      <td>https://wtable.co.kr/recipes/GdRMuEBF9nXVJAtqw...</td>\n",
       "      <td>https://static.wtable.co.kr/image/production/s...</td>\n",
       "      <td>통깨 꼬시래기 식초 용냉면육수 매실청 쌈무 참기름 고춧가루 소금 오이 고추장 달걀</td>\n",
       "      <td>['끓는 물에 소금, 식초, 꼬시래기를 넣어 30초 정도 데쳐주세요.\\r\\n(tip...</td>\n",
       "      <td>꼬시래기는 해조류의 한 종류인데요. 지방, 탄수화물 함량이 낮고 칼슘과 식이섬유를 ...</td>\n",
       "      <td>12</td>\n",
       "    </tr>\n",
       "  </tbody>\n",
       "</table>\n",
       "</div>"
      ],
      "text/plain": [
       "         요리    종류  난이도  소요시간   \n",
       "0  꼬시래기 물냉면  메인요리    1    20  \\\n",
       "\n",
       "                                                  링크   \n",
       "0  https://wtable.co.kr/recipes/GdRMuEBF9nXVJAtqw...  \\\n",
       "\n",
       "                                                  사진   \n",
       "0  https://static.wtable.co.kr/image/production/s...  \\\n",
       "\n",
       "                                              재료   \n",
       "0  통깨 꼬시래기 식초 용냉면육수 매실청 쌈무 참기름 고춧가루 소금 오이 고추장 달걀  \\\n",
       "\n",
       "                                                요리방법   \n",
       "0  ['끓는 물에 소금, 식초, 꼬시래기를 넣어 30초 정도 데쳐주세요.\\r\\n(tip...  \\\n",
       "\n",
       "                                                  설명  재료수  \n",
       "0  꼬시래기는 해조류의 한 종류인데요. 지방, 탄수화물 함량이 낮고 칼슘과 식이섬유를 ...   12  "
      ]
     },
     "execution_count": 9,
     "metadata": {},
     "output_type": "execute_result"
    }
   ],
   "source": [
    "df.head(1)"
   ]
  },
  {
   "cell_type": "code",
   "execution_count": 10,
   "metadata": {},
   "outputs": [],
   "source": [
    "difficulty_map = {1: '쉬움', 2: '보통', 3: '어려움'}\n",
    "df['난이도'] = df['난이도'].map(difficulty_map)"
   ]
  },
  {
   "cell_type": "code",
   "execution_count": 11,
   "metadata": {},
   "outputs": [
    {
     "name": "stdout",
     "output_type": "stream",
     "text": [
      "<class 'pandas.core.frame.DataFrame'>\n",
      "RangeIndex: 4340 entries, 0 to 4339\n",
      "Data columns (total 10 columns):\n",
      " #   Column  Non-Null Count  Dtype \n",
      "---  ------  --------------  ----- \n",
      " 0   요리      4340 non-null   object\n",
      " 1   종류      4340 non-null   object\n",
      " 2   난이도     4340 non-null   object\n",
      " 3   소요시간    4340 non-null   int64 \n",
      " 4   링크      4340 non-null   object\n",
      " 5   사진      4340 non-null   object\n",
      " 6   재료      4340 non-null   object\n",
      " 7   요리방법    4340 non-null   object\n",
      " 8   설명      4340 non-null   object\n",
      " 9   재료수     4340 non-null   int64 \n",
      "dtypes: int64(2), object(8)\n",
      "memory usage: 339.2+ KB\n"
     ]
    }
   ],
   "source": [
    "df.info()"
   ]
  },
  {
   "attachments": {},
   "cell_type": "markdown",
   "metadata": {},
   "source": [
    "### 전이학습을 통한 임베딩 벡터 생성\n",
    "- 사전학습 모델을 활용\n",
    "- feature 생성 및 비교"
   ]
  },
  {
   "attachments": {},
   "cell_type": "markdown",
   "metadata": {},
   "source": [
    "### feature 생성"
   ]
  },
  {
   "cell_type": "code",
   "execution_count": 12,
   "metadata": {},
   "outputs": [
    {
     "data": {
      "text/plain": [
       "0       통깨 꼬시래기 식초 용냉면육수 매실청 쌈무 참기름 고춧가루 소금 오이 고추장 달걀꼬...\n",
       "1       통깨 참기름 닭가슴살 찹쌀밥 다진당근 소금 물 통마늘닭죽아플 때나 기운이 없을 때 ...\n",
       "2       통깨 양조식초 밥 깻잎 참기름 다진마늘 새싹 설탕 상추 양파 고춧가루 간장 당근 고...\n",
       "3       후춧가루 올리고당 땅콩가루 굴소스 페페론치노 다진마늘 돼지등갈비 통후추 생강가루 설...\n",
       "4       후춧가루 파스타면 케이퍼 마늘 루꼴라 레몬제스트 소금 앤초비 올리브오일앤초비 파스타...\n",
       "                              ...                        \n",
       "4335    후춧가루 대파 청양고추 다진마늘 설탕 홍고추 신김치 멸치다시마육수 고춧가루 김치국물...\n",
       "4336    후춧가루 통깨 대파 밥 닭다리살 굴소스 올리고당 꽈리고추 다진마늘 참기름 생강가루 ...\n",
       "4337    후춧가루 녹인버터 체다슬라이스치즈 베이컨 소금 감자 플레인요거트 파슬리가루 올리브오...\n",
       "4338    생강가루 전분가루 소금 케첩 순살고등어 땅콩 맛술 간장 물 고추장 식용유 후춧가루 ...\n",
       "4339    후춧가루 디종머스타드 파슬리 대파 코코넛밀크 소금 타임 두유 뉴트리셔널이스트대파그라...\n",
       "Name: feature, Length: 4340, dtype: object"
      ]
     },
     "execution_count": 12,
     "metadata": {},
     "output_type": "execute_result"
    }
   ],
   "source": [
    "df['feature'] = df['재료'] + df['요리'] + df['설명'] + df['종류'] + df['난이도'] + df['요리방법']\n",
    "df['feature']"
   ]
  },
  {
   "cell_type": "code",
   "execution_count": 13,
   "metadata": {},
   "outputs": [],
   "source": [
    "df.to_csv('data/feature_recipes.csv', index=False)"
   ]
  },
  {
   "attachments": {},
   "cell_type": "markdown",
   "metadata": {},
   "source": [
    "### 사전 학습 모델\n",
    "- model : Sentence Transformer\n",
    "- pre trained model : `jhgan/ko-sroberta-multitask`"
   ]
  },
  {
   "cell_type": "code",
   "execution_count": 14,
   "metadata": {},
   "outputs": [],
   "source": [
    "model_name = 'jhgan/ko-sroberta-multitask'"
   ]
  },
  {
   "cell_type": "code",
   "execution_count": 15,
   "metadata": {},
   "outputs": [
    {
     "data": {
      "text/plain": [
       "SentenceTransformer(\n",
       "  (0): Transformer({'max_seq_length': 128, 'do_lower_case': False}) with Transformer model: RobertaModel \n",
       "  (1): Pooling({'word_embedding_dimension': 768, 'pooling_mode_cls_token': False, 'pooling_mode_mean_tokens': True, 'pooling_mode_max_tokens': False, 'pooling_mode_mean_sqrt_len_tokens': False})\n",
       ")"
      ]
     },
     "execution_count": 15,
     "metadata": {},
     "output_type": "execute_result"
    }
   ],
   "source": [
    "model = SentenceTransformer(model_name)\n",
    "model"
   ]
  },
  {
   "cell_type": "code",
   "execution_count": 16,
   "metadata": {},
   "outputs": [
    {
     "data": {
      "application/vnd.jupyter.widget-view+json": {
       "model_id": "7f2030aad3d04ef1bda33127de6db560",
       "version_major": 2,
       "version_minor": 0
      },
      "text/plain": [
       "  0%|          | 0/4340 [00:00<?, ?it/s]"
      ]
     },
     "metadata": {},
     "output_type": "display_data"
    }
   ],
   "source": [
    "# feature1\n",
    "feature_name = 'feature'\n",
    "df[f'{model_name}-' + f'{feature_name}'] = df['feature'].progress_apply(lambda x: model.encode(x))"
   ]
  },
  {
   "cell_type": "code",
   "execution_count": 18,
   "metadata": {},
   "outputs": [],
   "source": [
    "df.columns = ['요리', '종류', '난이도', '소요시간', '링크', '사진', '재료', '요리방법', '설명', '재료수',\n",
    "       'feature', 'ko-sroberta-multitask-feature']"
   ]
  },
  {
   "cell_type": "code",
   "execution_count": 19,
   "metadata": {},
   "outputs": [
    {
     "data": {
      "text/html": [
       "<div>\n",
       "<style scoped>\n",
       "    .dataframe tbody tr th:only-of-type {\n",
       "        vertical-align: middle;\n",
       "    }\n",
       "\n",
       "    .dataframe tbody tr th {\n",
       "        vertical-align: top;\n",
       "    }\n",
       "\n",
       "    .dataframe thead th {\n",
       "        text-align: right;\n",
       "    }\n",
       "</style>\n",
       "<table border=\"1\" class=\"dataframe\">\n",
       "  <thead>\n",
       "    <tr style=\"text-align: right;\">\n",
       "      <th></th>\n",
       "      <th>요리</th>\n",
       "      <th>종류</th>\n",
       "      <th>난이도</th>\n",
       "      <th>재료</th>\n",
       "      <th>요리방법</th>\n",
       "      <th>설명</th>\n",
       "      <th>재료수</th>\n",
       "      <th>소요시간</th>\n",
       "      <th>링크</th>\n",
       "      <th>사진</th>\n",
       "      <th>feature</th>\n",
       "      <th>ko-sroberta-multitask-feature</th>\n",
       "    </tr>\n",
       "  </thead>\n",
       "  <tbody>\n",
       "    <tr>\n",
       "      <th>0</th>\n",
       "      <td>꼬시래기 물냉면</td>\n",
       "      <td>메인요리</td>\n",
       "      <td>쉬움</td>\n",
       "      <td>통깨 꼬시래기 식초 용냉면육수 매실청 쌈무 참기름 고춧가루 소금 오이 고추장 달걀</td>\n",
       "      <td>['끓는 물에 소금, 식초, 꼬시래기를 넣어 30초 정도 데쳐주세요.\\r\\n(tip...</td>\n",
       "      <td>꼬시래기는 해조류의 한 종류인데요. 지방, 탄수화물 함량이 낮고 칼슘과 식이섬유를 ...</td>\n",
       "      <td>12</td>\n",
       "      <td>20</td>\n",
       "      <td>https://wtable.co.kr/recipes/GdRMuEBF9nXVJAtqw...</td>\n",
       "      <td>https://static.wtable.co.kr/image/production/s...</td>\n",
       "      <td>통깨 꼬시래기 식초 용냉면육수 매실청 쌈무 참기름 고춧가루 소금 오이 고추장 달걀꼬...</td>\n",
       "      <td>[0.21892446, -0.08537187, -0.08634098, -0.2353...</td>\n",
       "    </tr>\n",
       "    <tr>\n",
       "      <th>1</th>\n",
       "      <td>닭죽</td>\n",
       "      <td>메인요리</td>\n",
       "      <td>쉬움</td>\n",
       "      <td>통깨 참기름 닭가슴살 찹쌀밥 다진당근 소금 물 통마늘</td>\n",
       "      <td>['냄비에 물과 닭가슴살, 마늘, 대파를 넣고 15분간 삶아주세요. ', '삶은 닭...</td>\n",
       "      <td>아플 때나 기운이 없을 때 간단히 끓여 먹기 좋은 닭죽! 맛이 좋은 건 물론 속을 ...</td>\n",
       "      <td>8</td>\n",
       "      <td>30</td>\n",
       "      <td>https://wtable.co.kr/recipes/QawUyVgt3e5wvCT9d...</td>\n",
       "      <td>https://static.wtable.co.kr/image/production/s...</td>\n",
       "      <td>통깨 참기름 닭가슴살 찹쌀밥 다진당근 소금 물 통마늘닭죽아플 때나 기운이 없을 때 ...</td>\n",
       "      <td>[0.3989115, -0.18220846, 0.1402082, -0.3062960...</td>\n",
       "    </tr>\n",
       "    <tr>\n",
       "      <th>2</th>\n",
       "      <td>생채소 참치비빔밥</td>\n",
       "      <td>메인요리</td>\n",
       "      <td>쉬움</td>\n",
       "      <td>통깨 양조식초 밥 깻잎 참기름 다진마늘 새싹 설탕 상추 양파 고춧가루 간장 당근 고...</td>\n",
       "      <td>['참치는 꽉 짜서 기름을 빼주세요. ', '채소는 가볍게 씻어 채반에서 물기를 빼...</td>\n",
       "      <td>별다른 반찬이 없을 때 해 먹기 딱 좋은 생채소 참치비빔밥 레시피 소개할게요. 집에...</td>\n",
       "      <td>16</td>\n",
       "      <td>20</td>\n",
       "      <td>https://wtable.co.kr/recipes/VxEeT7YiZ5QQETGmj...</td>\n",
       "      <td>https://static.wtable.co.kr/image/production/s...</td>\n",
       "      <td>통깨 양조식초 밥 깻잎 참기름 다진마늘 새싹 설탕 상추 양파 고춧가루 간장 당근 고...</td>\n",
       "      <td>[0.32626605, -0.10854334, 0.06457064, -0.14995...</td>\n",
       "    </tr>\n",
       "    <tr>\n",
       "      <th>3</th>\n",
       "      <td>등갈비강정</td>\n",
       "      <td>메인요리</td>\n",
       "      <td>보통</td>\n",
       "      <td>후춧가루 올리고당 땅콩가루 굴소스 페페론치노 다진마늘 돼지등갈비 통후추 생강가루 설...</td>\n",
       "      <td>['등갈비는 찬물에 30분 정도 담가 핏물을 뺀 후 흐르는 물에 깨끗하게 씻어주세요...</td>\n",
       "      <td>돼지고기 등갈비는 야들야들한 살코기에 육즙이 가득 스며들어 뜯어 먹는 재미까지 있어...</td>\n",
       "      <td>18</td>\n",
       "      <td>40</td>\n",
       "      <td>https://wtable.co.kr/recipes/1nyadXLMLxWsNiL3y...</td>\n",
       "      <td>https://static.wtable.co.kr/image/production/s...</td>\n",
       "      <td>후춧가루 올리고당 땅콩가루 굴소스 페페론치노 다진마늘 돼지등갈비 통후추 생강가루 설...</td>\n",
       "      <td>[0.28909966, -0.33386758, -0.2219468, -0.02882...</td>\n",
       "    </tr>\n",
       "    <tr>\n",
       "      <th>4</th>\n",
       "      <td>앤초비 파스타</td>\n",
       "      <td>메인요리</td>\n",
       "      <td>쉬움</td>\n",
       "      <td>후춧가루 파스타면 케이퍼 마늘 루꼴라 레몬제스트 소금 앤초비 올리브오일</td>\n",
       "      <td>['앤초비와 케이퍼는 작게 다지고 마늘은 편으로 썰어주세요.', '냄비에 물과 소금...</td>\n",
       "      <td>앤초비는 지중해나 유럽 근해에서 나는 멸치류의 작은 물고기를 발효시킨 젓갈입니다. ...</td>\n",
       "      <td>9</td>\n",
       "      <td>20</td>\n",
       "      <td>https://wtable.co.kr/recipes/PJwQfoHitXrpY8n3B...</td>\n",
       "      <td>https://static.wtable.co.kr/image/production/s...</td>\n",
       "      <td>후춧가루 파스타면 케이퍼 마늘 루꼴라 레몬제스트 소금 앤초비 올리브오일앤초비 파스타...</td>\n",
       "      <td>[0.6808941, 0.37798557, -0.5026342, -0.0001627...</td>\n",
       "    </tr>\n",
       "    <tr>\n",
       "      <th>...</th>\n",
       "      <td>...</td>\n",
       "      <td>...</td>\n",
       "      <td>...</td>\n",
       "      <td>...</td>\n",
       "      <td>...</td>\n",
       "      <td>...</td>\n",
       "      <td>...</td>\n",
       "      <td>...</td>\n",
       "      <td>...</td>\n",
       "      <td>...</td>\n",
       "      <td>...</td>\n",
       "      <td>...</td>\n",
       "    </tr>\n",
       "    <tr>\n",
       "      <th>4335</th>\n",
       "      <td>돼지고기 김치찜</td>\n",
       "      <td>오븐 요리</td>\n",
       "      <td>보통</td>\n",
       "      <td>후춧가루 대파 청양고추 다진마늘 설탕 홍고추 신김치 멸치다시마육수 고춧가루 김치국물...</td>\n",
       "      <td>['김치는 속 재료를 털어내고 꼭지를 붙인 채 3등분하여 썰어주세요. 볼에 양념장 ...</td>\n",
       "      <td>부드럽게 익은 묵은지에 삼겹살을 함께 먹으면 환상의 궁합이죠! 남녀노소 모두 좋아하...</td>\n",
       "      <td>12</td>\n",
       "      <td>60</td>\n",
       "      <td>https://wtable.co.kr/recipes/VLWSSwqgVZWJeeCmH...</td>\n",
       "      <td>https://static.wtable.co.kr/image/production/s...</td>\n",
       "      <td>후춧가루 대파 청양고추 다진마늘 설탕 홍고추 신김치 멸치다시마육수 고춧가루 김치국물...</td>\n",
       "      <td>[0.1760793, -0.04701886, 0.12539494, -0.059310...</td>\n",
       "    </tr>\n",
       "    <tr>\n",
       "      <th>4336</th>\n",
       "      <td>닭고기 덮밥</td>\n",
       "      <td>오븐 요리</td>\n",
       "      <td>쉬움</td>\n",
       "      <td>후춧가루 통깨 대파 밥 닭다리살 굴소스 올리고당 꽈리고추 다진마늘 참기름 생강가루 ...</td>\n",
       "      <td>['닭 다리 살은 한 입 크기로 썰어준 후 밑간 재료에 10분간 재워주세요.', '...</td>\n",
       "      <td>쫄깃한 닭다리살과 은은하게 매운 꽈리고추가 정말 잘 어울리는 덮밥. 간편하고 근사한...</td>\n",
       "      <td>16</td>\n",
       "      <td>40</td>\n",
       "      <td>https://wtable.co.kr/recipes/4okDDgv6FXaWVrdjE...</td>\n",
       "      <td>https://static.wtable.co.kr/image/production/s...</td>\n",
       "      <td>후춧가루 통깨 대파 밥 닭다리살 굴소스 올리고당 꽈리고추 다진마늘 참기름 생강가루 ...</td>\n",
       "      <td>[0.08764206, 0.08066006, 0.1789572, -0.0422857...</td>\n",
       "    </tr>\n",
       "    <tr>\n",
       "      <th>4337</th>\n",
       "      <td>감자 버터 오븐구이</td>\n",
       "      <td>오븐 요리</td>\n",
       "      <td>보통</td>\n",
       "      <td>후춧가루 녹인버터 체다슬라이스치즈 베이컨 소금 감자 플레인요거트 파슬리가루 올리브오일</td>\n",
       "      <td>['껍질째 깨끗이 씻은 감자를 양쪽에 나무젓가락을 놓고 일정한 간격으로 얇게 칼집을...</td>\n",
       "      <td>맛있을 수밖에 없는 메뉴! 담백한 감자에 짭조름한 치즈, 베이컨까지 어우러진 감자 ...</td>\n",
       "      <td>9</td>\n",
       "      <td>60</td>\n",
       "      <td>https://wtable.co.kr/recipes/isqPQBYFeGTEtbKBe...</td>\n",
       "      <td>https://static.wtable.co.kr/image/production/s...</td>\n",
       "      <td>후춧가루 녹인버터 체다슬라이스치즈 베이컨 소금 감자 플레인요거트 파슬리가루 올리브오...</td>\n",
       "      <td>[-0.061336264, -0.14253633, 0.50772816, 0.0692...</td>\n",
       "    </tr>\n",
       "    <tr>\n",
       "      <th>4338</th>\n",
       "      <td>고등어 강정</td>\n",
       "      <td>오븐 요리</td>\n",
       "      <td>보통</td>\n",
       "      <td>생강가루 전분가루 소금 케첩 순살고등어 땅콩 맛술 간장 물 고추장 식용유 후춧가루 ...</td>\n",
       "      <td>['순살 고등어는 한입 크기로 잘라 밑간 재료에 10분간 재워주세요.', '파채는 ...</td>\n",
       "      <td>고등어를 색다르게 즐기는 요리. 비린 맛이 하나도 없고, 매콤 달콤한 소스와 너무 ...</td>\n",
       "      <td>19</td>\n",
       "      <td>30</td>\n",
       "      <td>https://wtable.co.kr/recipes/KeZoBFZT8b2iHPzfv...</td>\n",
       "      <td>https://static.wtable.co.kr/image/production/s...</td>\n",
       "      <td>생강가루 전분가루 소금 케첩 순살고등어 땅콩 맛술 간장 물 고추장 식용유 후춧가루 ...</td>\n",
       "      <td>[0.32755455, 0.25685662, 0.5167652, 0.6005948,...</td>\n",
       "    </tr>\n",
       "    <tr>\n",
       "      <th>4339</th>\n",
       "      <td>대파그라탕</td>\n",
       "      <td>오븐 요리</td>\n",
       "      <td>쉬움</td>\n",
       "      <td>후춧가루 디종머스타드 파슬리 대파 코코넛밀크 소금 타임 두유 뉴트리셔널이스트</td>\n",
       "      <td>['냄비에 비건 크림 재료를 붓고 약불에서 10분간 저어가며 끓여주세요.', '깨끗...</td>\n",
       "      <td>대파의 무한변신, 대파그라탕! 대파의 은은한 단맛과 향이 매력적인 요리인데요. 특히...</td>\n",
       "      <td>9</td>\n",
       "      <td>30</td>\n",
       "      <td>https://wtable.co.kr/recipes/JyHPoLXkZ5m8Xu9rt...</td>\n",
       "      <td>https://static.wtable.co.kr/image/production/s...</td>\n",
       "      <td>후춧가루 디종머스타드 파슬리 대파 코코넛밀크 소금 타임 두유 뉴트리셔널이스트대파그라...</td>\n",
       "      <td>[-0.79661524, -0.06730795, 0.39410853, -0.4535...</td>\n",
       "    </tr>\n",
       "  </tbody>\n",
       "</table>\n",
       "<p>4340 rows × 12 columns</p>\n",
       "</div>"
      ],
      "text/plain": [
       "              요리     종류 난이도   \n",
       "0       꼬시래기 물냉면   메인요리  쉬움  \\\n",
       "1             닭죽   메인요리  쉬움   \n",
       "2      생채소 참치비빔밥   메인요리  쉬움   \n",
       "3          등갈비강정   메인요리  보통   \n",
       "4        앤초비 파스타   메인요리  쉬움   \n",
       "...          ...    ...  ..   \n",
       "4335    돼지고기 김치찜  오븐 요리  보통   \n",
       "4336      닭고기 덮밥  오븐 요리  쉬움   \n",
       "4337  감자 버터 오븐구이  오븐 요리  보통   \n",
       "4338      고등어 강정  오븐 요리  보통   \n",
       "4339       대파그라탕  오븐 요리  쉬움   \n",
       "\n",
       "                                                     재료   \n",
       "0         통깨 꼬시래기 식초 용냉면육수 매실청 쌈무 참기름 고춧가루 소금 오이 고추장 달걀  \\\n",
       "1                         통깨 참기름 닭가슴살 찹쌀밥 다진당근 소금 물 통마늘   \n",
       "2     통깨 양조식초 밥 깻잎 참기름 다진마늘 새싹 설탕 상추 양파 고춧가루 간장 당근 고...   \n",
       "3     후춧가루 올리고당 땅콩가루 굴소스 페페론치노 다진마늘 돼지등갈비 통후추 생강가루 설...   \n",
       "4               후춧가루 파스타면 케이퍼 마늘 루꼴라 레몬제스트 소금 앤초비 올리브오일   \n",
       "...                                                 ...   \n",
       "4335  후춧가루 대파 청양고추 다진마늘 설탕 홍고추 신김치 멸치다시마육수 고춧가루 김치국물...   \n",
       "4336  후춧가루 통깨 대파 밥 닭다리살 굴소스 올리고당 꽈리고추 다진마늘 참기름 생강가루 ...   \n",
       "4337    후춧가루 녹인버터 체다슬라이스치즈 베이컨 소금 감자 플레인요거트 파슬리가루 올리브오일   \n",
       "4338  생강가루 전분가루 소금 케첩 순살고등어 땅콩 맛술 간장 물 고추장 식용유 후춧가루 ...   \n",
       "4339         후춧가루 디종머스타드 파슬리 대파 코코넛밀크 소금 타임 두유 뉴트리셔널이스트   \n",
       "\n",
       "                                                   요리방법   \n",
       "0     ['끓는 물에 소금, 식초, 꼬시래기를 넣어 30초 정도 데쳐주세요.\\r\\n(tip...  \\\n",
       "1     ['냄비에 물과 닭가슴살, 마늘, 대파를 넣고 15분간 삶아주세요. ', '삶은 닭...   \n",
       "2     ['참치는 꽉 짜서 기름을 빼주세요. ', '채소는 가볍게 씻어 채반에서 물기를 빼...   \n",
       "3     ['등갈비는 찬물에 30분 정도 담가 핏물을 뺀 후 흐르는 물에 깨끗하게 씻어주세요...   \n",
       "4     ['앤초비와 케이퍼는 작게 다지고 마늘은 편으로 썰어주세요.', '냄비에 물과 소금...   \n",
       "...                                                 ...   \n",
       "4335  ['김치는 속 재료를 털어내고 꼭지를 붙인 채 3등분하여 썰어주세요. 볼에 양념장 ...   \n",
       "4336  ['닭 다리 살은 한 입 크기로 썰어준 후 밑간 재료에 10분간 재워주세요.', '...   \n",
       "4337  ['껍질째 깨끗이 씻은 감자를 양쪽에 나무젓가락을 놓고 일정한 간격으로 얇게 칼집을...   \n",
       "4338  ['순살 고등어는 한입 크기로 잘라 밑간 재료에 10분간 재워주세요.', '파채는 ...   \n",
       "4339  ['냄비에 비건 크림 재료를 붓고 약불에서 10분간 저어가며 끓여주세요.', '깨끗...   \n",
       "\n",
       "                                                     설명  재료수  소요시간   \n",
       "0     꼬시래기는 해조류의 한 종류인데요. 지방, 탄수화물 함량이 낮고 칼슘과 식이섬유를 ...   12    20  \\\n",
       "1     아플 때나 기운이 없을 때 간단히 끓여 먹기 좋은 닭죽! 맛이 좋은 건 물론 속을 ...    8    30   \n",
       "2     별다른 반찬이 없을 때 해 먹기 딱 좋은 생채소 참치비빔밥 레시피 소개할게요. 집에...   16    20   \n",
       "3     돼지고기 등갈비는 야들야들한 살코기에 육즙이 가득 스며들어 뜯어 먹는 재미까지 있어...   18    40   \n",
       "4     앤초비는 지중해나 유럽 근해에서 나는 멸치류의 작은 물고기를 발효시킨 젓갈입니다. ...    9    20   \n",
       "...                                                 ...  ...   ...   \n",
       "4335  부드럽게 익은 묵은지에 삼겹살을 함께 먹으면 환상의 궁합이죠! 남녀노소 모두 좋아하...   12    60   \n",
       "4336  쫄깃한 닭다리살과 은은하게 매운 꽈리고추가 정말 잘 어울리는 덮밥. 간편하고 근사한...   16    40   \n",
       "4337  맛있을 수밖에 없는 메뉴! 담백한 감자에 짭조름한 치즈, 베이컨까지 어우러진 감자 ...    9    60   \n",
       "4338  고등어를 색다르게 즐기는 요리. 비린 맛이 하나도 없고, 매콤 달콤한 소스와 너무 ...   19    30   \n",
       "4339  대파의 무한변신, 대파그라탕! 대파의 은은한 단맛과 향이 매력적인 요리인데요. 특히...    9    30   \n",
       "\n",
       "                                                     링크   \n",
       "0     https://wtable.co.kr/recipes/GdRMuEBF9nXVJAtqw...  \\\n",
       "1     https://wtable.co.kr/recipes/QawUyVgt3e5wvCT9d...   \n",
       "2     https://wtable.co.kr/recipes/VxEeT7YiZ5QQETGmj...   \n",
       "3     https://wtable.co.kr/recipes/1nyadXLMLxWsNiL3y...   \n",
       "4     https://wtable.co.kr/recipes/PJwQfoHitXrpY8n3B...   \n",
       "...                                                 ...   \n",
       "4335  https://wtable.co.kr/recipes/VLWSSwqgVZWJeeCmH...   \n",
       "4336  https://wtable.co.kr/recipes/4okDDgv6FXaWVrdjE...   \n",
       "4337  https://wtable.co.kr/recipes/isqPQBYFeGTEtbKBe...   \n",
       "4338  https://wtable.co.kr/recipes/KeZoBFZT8b2iHPzfv...   \n",
       "4339  https://wtable.co.kr/recipes/JyHPoLXkZ5m8Xu9rt...   \n",
       "\n",
       "                                                     사진   \n",
       "0     https://static.wtable.co.kr/image/production/s...  \\\n",
       "1     https://static.wtable.co.kr/image/production/s...   \n",
       "2     https://static.wtable.co.kr/image/production/s...   \n",
       "3     https://static.wtable.co.kr/image/production/s...   \n",
       "4     https://static.wtable.co.kr/image/production/s...   \n",
       "...                                                 ...   \n",
       "4335  https://static.wtable.co.kr/image/production/s...   \n",
       "4336  https://static.wtable.co.kr/image/production/s...   \n",
       "4337  https://static.wtable.co.kr/image/production/s...   \n",
       "4338  https://static.wtable.co.kr/image/production/s...   \n",
       "4339  https://static.wtable.co.kr/image/production/s...   \n",
       "\n",
       "                                                feature   \n",
       "0     통깨 꼬시래기 식초 용냉면육수 매실청 쌈무 참기름 고춧가루 소금 오이 고추장 달걀꼬...  \\\n",
       "1     통깨 참기름 닭가슴살 찹쌀밥 다진당근 소금 물 통마늘닭죽아플 때나 기운이 없을 때 ...   \n",
       "2     통깨 양조식초 밥 깻잎 참기름 다진마늘 새싹 설탕 상추 양파 고춧가루 간장 당근 고...   \n",
       "3     후춧가루 올리고당 땅콩가루 굴소스 페페론치노 다진마늘 돼지등갈비 통후추 생강가루 설...   \n",
       "4     후춧가루 파스타면 케이퍼 마늘 루꼴라 레몬제스트 소금 앤초비 올리브오일앤초비 파스타...   \n",
       "...                                                 ...   \n",
       "4335  후춧가루 대파 청양고추 다진마늘 설탕 홍고추 신김치 멸치다시마육수 고춧가루 김치국물...   \n",
       "4336  후춧가루 통깨 대파 밥 닭다리살 굴소스 올리고당 꽈리고추 다진마늘 참기름 생강가루 ...   \n",
       "4337  후춧가루 녹인버터 체다슬라이스치즈 베이컨 소금 감자 플레인요거트 파슬리가루 올리브오...   \n",
       "4338  생강가루 전분가루 소금 케첩 순살고등어 땅콩 맛술 간장 물 고추장 식용유 후춧가루 ...   \n",
       "4339  후춧가루 디종머스타드 파슬리 대파 코코넛밀크 소금 타임 두유 뉴트리셔널이스트대파그라...   \n",
       "\n",
       "                          ko-sroberta-multitask-feature  \n",
       "0     [0.21892446, -0.08537187, -0.08634098, -0.2353...  \n",
       "1     [0.3989115, -0.18220846, 0.1402082, -0.3062960...  \n",
       "2     [0.32626605, -0.10854334, 0.06457064, -0.14995...  \n",
       "3     [0.28909966, -0.33386758, -0.2219468, -0.02882...  \n",
       "4     [0.6808941, 0.37798557, -0.5026342, -0.0001627...  \n",
       "...                                                 ...  \n",
       "4335  [0.1760793, -0.04701886, 0.12539494, -0.059310...  \n",
       "4336  [0.08764206, 0.08066006, 0.1789572, -0.0422857...  \n",
       "4337  [-0.061336264, -0.14253633, 0.50772816, 0.0692...  \n",
       "4338  [0.32755455, 0.25685662, 0.5167652, 0.6005948,...  \n",
       "4339  [-0.79661524, -0.06730795, 0.39410853, -0.4535...  \n",
       "\n",
       "[4340 rows x 12 columns]"
      ]
     },
     "execution_count": 19,
     "metadata": {},
     "output_type": "execute_result"
    }
   ],
   "source": [
    "df = df[['요리', '종류', '난이도', '재료', '요리방법', '설명', '재료수', '소요시간', '링크', '사진', \n",
    "         'feature', 'ko-sroberta-multitask-feature']]\n",
    "df"
   ]
  },
  {
   "cell_type": "code",
   "execution_count": 20,
   "metadata": {},
   "outputs": [],
   "source": [
    "df.to_pickle('data/compact_kosroberta_recipes.pkl')\n",
    "df = pd.read_pickle('data/compact_kosroberta_recipes.pkl')"
   ]
  },
  {
   "cell_type": "code",
   "execution_count": 22,
   "metadata": {},
   "outputs": [
    {
     "data": {
      "text/html": [
       "<div>\n",
       "<style scoped>\n",
       "    .dataframe tbody tr th:only-of-type {\n",
       "        vertical-align: middle;\n",
       "    }\n",
       "\n",
       "    .dataframe tbody tr th {\n",
       "        vertical-align: top;\n",
       "    }\n",
       "\n",
       "    .dataframe thead th {\n",
       "        text-align: right;\n",
       "    }\n",
       "</style>\n",
       "<table border=\"1\" class=\"dataframe\">\n",
       "  <thead>\n",
       "    <tr style=\"text-align: right;\">\n",
       "      <th></th>\n",
       "      <th>요리</th>\n",
       "      <th>종류</th>\n",
       "      <th>난이도</th>\n",
       "      <th>재료</th>\n",
       "      <th>요리방법</th>\n",
       "      <th>설명</th>\n",
       "      <th>재료수</th>\n",
       "      <th>소요시간</th>\n",
       "      <th>링크</th>\n",
       "      <th>사진</th>\n",
       "      <th>feature</th>\n",
       "      <th>ko-sroberta-multitask-feature</th>\n",
       "    </tr>\n",
       "  </thead>\n",
       "  <tbody>\n",
       "    <tr>\n",
       "      <th>0</th>\n",
       "      <td>꼬시래기 물냉면</td>\n",
       "      <td>메인요리</td>\n",
       "      <td>쉬움</td>\n",
       "      <td>통깨 꼬시래기 식초 용냉면육수 매실청 쌈무 참기름 고춧가루 소금 오이 고추장 달걀</td>\n",
       "      <td>['끓는 물에 소금, 식초, 꼬시래기를 넣어 30초 정도 데쳐주세요.\\r\\n(tip...</td>\n",
       "      <td>꼬시래기는 해조류의 한 종류인데요. 지방, 탄수화물 함량이 낮고 칼슘과 식이섬유를 ...</td>\n",
       "      <td>12</td>\n",
       "      <td>20</td>\n",
       "      <td>https://wtable.co.kr/recipes/GdRMuEBF9nXVJAtqw...</td>\n",
       "      <td>https://static.wtable.co.kr/image/production/s...</td>\n",
       "      <td>통깨 꼬시래기 식초 용냉면육수 매실청 쌈무 참기름 고춧가루 소금 오이 고추장 달걀꼬...</td>\n",
       "      <td>[0.21892446, -0.08537187, -0.08634098, -0.2353...</td>\n",
       "    </tr>\n",
       "  </tbody>\n",
       "</table>\n",
       "</div>"
      ],
      "text/plain": [
       "         요리    종류 난이도                                             재료   \n",
       "0  꼬시래기 물냉면  메인요리  쉬움  통깨 꼬시래기 식초 용냉면육수 매실청 쌈무 참기름 고춧가루 소금 오이 고추장 달걀  \\\n",
       "\n",
       "                                                요리방법   \n",
       "0  ['끓는 물에 소금, 식초, 꼬시래기를 넣어 30초 정도 데쳐주세요.\\r\\n(tip...  \\\n",
       "\n",
       "                                                  설명  재료수  소요시간   \n",
       "0  꼬시래기는 해조류의 한 종류인데요. 지방, 탄수화물 함량이 낮고 칼슘과 식이섬유를 ...   12    20  \\\n",
       "\n",
       "                                                  링크   \n",
       "0  https://wtable.co.kr/recipes/GdRMuEBF9nXVJAtqw...  \\\n",
       "\n",
       "                                                  사진   \n",
       "0  https://static.wtable.co.kr/image/production/s...  \\\n",
       "\n",
       "                                             feature   \n",
       "0  통깨 꼬시래기 식초 용냉면육수 매실청 쌈무 참기름 고춧가루 소금 오이 고추장 달걀꼬...  \\\n",
       "\n",
       "                       ko-sroberta-multitask-feature  \n",
       "0  [0.21892446, -0.08537187, -0.08634098, -0.2353...  "
      ]
     },
     "execution_count": 22,
     "metadata": {},
     "output_type": "execute_result"
    }
   ],
   "source": [
    "df.head(1)"
   ]
  },
  {
   "attachments": {},
   "cell_type": "markdown",
   "metadata": {},
   "source": [
    "## DB에 임베딩 벡터 저장하고, 불러오는 과정\n",
    "- 위에서 적용한 pickle 형식으로 데이터를 저장하는 것이 더 효율적이라고 판단됨"
   ]
  },
  {
   "cell_type": "code",
   "execution_count": 23,
   "metadata": {},
   "outputs": [],
   "source": [
    "# # 데이터 프레임의 embedding\n",
    "# def save_embeddings_to_db(df, db_file, model):\n",
    "#     conn = sqlite3.connect(db_file)\n",
    "#     cursor = conn.cursor()\n",
    "#     cursor.execute('''CREATE TABLE IF NOT EXISTS embedding_table (id INTEGER PRIMARY KEY, embedding_data BLOB)''')\n",
    "#     conn.commit()\n",
    "\n",
    "#     for index, row in df.iterrows():\n",
    "#         text = row['feature']\n",
    "#         embedding = model.encode(text)\n",
    "#         embedding_binary = pickle.dumps(embedding)\n",
    "#         cursor.execute('''INSERT INTO embedding_table (id, embedding_data) VALUES (?,?)''', (index, embedding_binary))\n",
    "#         conn.commit()\n",
    "\n",
    "#     conn.close()"
   ]
  },
  {
   "cell_type": "code",
   "execution_count": 24,
   "metadata": {},
   "outputs": [],
   "source": [
    "# save_embeddings_to_db(df, 'embedding.db', model)"
   ]
  },
  {
   "cell_type": "code",
   "execution_count": 25,
   "metadata": {},
   "outputs": [],
   "source": [
    "# def add_embeddings_to_df(df, db_file):\n",
    "#     conn = sqlite3.connect(db_file)\n",
    "#     cursor = conn.cursor()\n",
    "\n",
    "#     # 데이터베이스에서 임베딩 정보 불러오기\n",
    "#     cursor.execute('''SELECT id, embedding_data FROM embedding_table''')\n",
    "#     rows = cursor.fetchall()\n",
    "    \n",
    "#     # 불러온 임베딩 정보를 딕셔너리로 변환\n",
    "#     embeddings_dict = {}\n",
    "#     for row in rows:\n",
    "#         index = row[0]\n",
    "#         embedding_binary = row[1]\n",
    "#         embedding = pickle.loads(embedding_binary)\n",
    "#         embeddings_dict[index] = embedding\n",
    "    \n",
    "#     # 데이터프레임에 임베딩 정보 추가\n",
    "#     embeddings = []\n",
    "#     for index, row in df.iterrows():\n",
    "#         if index in embeddings_dict:\n",
    "#             embedding = embeddings_dict[index]\n",
    "#             embeddings.append(embedding)\n",
    "#         else:\n",
    "#             embeddings.append(None)\n",
    "#     df['embeddings'] = embeddings\n",
    "    \n",
    "#     conn.close()\n",
    "#     return df\n"
   ]
  },
  {
   "cell_type": "code",
   "execution_count": 26,
   "metadata": {},
   "outputs": [],
   "source": [
    "# add_embeddings_to_df(df, 'embedding.db')\n",
    "# df"
   ]
  }
 ],
 "metadata": {
  "kernelspec": {
   "display_name": "base",
   "language": "python",
   "name": "python3"
  },
  "language_info": {
   "codemirror_mode": {
    "name": "ipython",
    "version": 3
   },
   "file_extension": ".py",
   "mimetype": "text/x-python",
   "name": "python",
   "nbconvert_exporter": "python",
   "pygments_lexer": "ipython3",
   "version": "3.10.10"
  },
  "orig_nbformat": 4
 },
 "nbformat": 4,
 "nbformat_minor": 2
}
