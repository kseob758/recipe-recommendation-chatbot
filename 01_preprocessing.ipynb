{
 "cells": [
  {
   "attachments": {},
   "cell_type": "markdown",
   "metadata": {},
   "source": [
    "# NLP를 활용한 레시피 추천 챗봇 구현\n",
    "**개요**\n",
    "- Collection \n",
    "- Preprocessing\n",
    "- EDA\n",
    "- Embeddings\n",
    "- Modeling\n",
    "- Streamlit"
   ]
  },
  {
   "attachments": {},
   "cell_type": "markdown",
   "metadata": {},
   "source": [
    "## 2. Preprocessing (전처리)\n",
    "- 수집한 데이터 : 요리이름, 카테고리, 난이도, 소요시간, 재료, 요리방법, 요리설명, 링크, 이미지링크\n",
    "- 전처리할 데이터 : 재료에 섞인 불용어 위주로 제거\n"
   ]
  },
  {
   "attachments": {},
   "cell_type": "markdown",
   "metadata": {},
   "source": [
    "### 라이브러리 import"
   ]
  },
  {
   "cell_type": "code",
   "execution_count": 1,
   "metadata": {},
   "outputs": [],
   "source": [
    "# 데이터 분석\n",
    "import numpy as np\n",
    "import pandas as pd\n",
    "\n",
    "# 진행시간 표시\n",
    "import time\n",
    "from tqdm.notebook import tqdm\n",
    "tqdm.pandas()\n",
    "\n",
    "# 정규표현식\n",
    "import re"
   ]
  },
  {
   "attachments": {},
   "cell_type": "markdown",
   "metadata": {},
   "source": [
    "### 데이터 불러오기"
   ]
  },
  {
   "cell_type": "code",
   "execution_count": 2,
   "metadata": {},
   "outputs": [],
   "source": [
    "# 크롤링한 데이터 불러오기\n",
    "raw_recipes = pd.read_csv('data/raw_recipes.csv')"
   ]
  },
  {
   "cell_type": "code",
   "execution_count": 3,
   "metadata": {},
   "outputs": [
    {
     "data": {
      "text/plain": [
       "(4340, 9)"
      ]
     },
     "execution_count": 3,
     "metadata": {},
     "output_type": "execute_result"
    }
   ],
   "source": [
    "raw_recipes.shape"
   ]
  },
  {
   "cell_type": "code",
   "execution_count": 4,
   "metadata": {},
   "outputs": [
    {
     "data": {
      "text/html": [
       "<div>\n",
       "<style scoped>\n",
       "    .dataframe tbody tr th:only-of-type {\n",
       "        vertical-align: middle;\n",
       "    }\n",
       "\n",
       "    .dataframe tbody tr th {\n",
       "        vertical-align: top;\n",
       "    }\n",
       "\n",
       "    .dataframe thead th {\n",
       "        text-align: right;\n",
       "    }\n",
       "</style>\n",
       "<table border=\"1\" class=\"dataframe\">\n",
       "  <thead>\n",
       "    <tr style=\"text-align: right;\">\n",
       "      <th></th>\n",
       "      <th>요리</th>\n",
       "      <th>종류</th>\n",
       "      <th>난이도</th>\n",
       "      <th>소요시간</th>\n",
       "      <th>링크</th>\n",
       "      <th>사진</th>\n",
       "      <th>재료</th>\n",
       "      <th>요리방법</th>\n",
       "      <th>설명</th>\n",
       "    </tr>\n",
       "  </thead>\n",
       "  <tbody>\n",
       "    <tr>\n",
       "      <th>0</th>\n",
       "      <td>꼬시래기 물냉면</td>\n",
       "      <td>메인요리</td>\n",
       "      <td>1</td>\n",
       "      <td>20</td>\n",
       "      <td>https://wtable.co.kr/recipes/GdRMuEBF9nXVJAtqw...</td>\n",
       "      <td>https://static.wtable.co.kr/image/production/s...</td>\n",
       "      <td>['꼬시래기', '시판용 냉면육수', '오이', '삶은 달걀', '쌈무', '통깨'...</td>\n",
       "      <td>['끓는 물에 소금, 식초, 꼬시래기를 넣어 30초 정도 데쳐주세요.\\r\\n(tip...</td>\n",
       "      <td>꼬시래기는 해조류의 한 종류인데요. 지방, 탄수화물 함량이 낮고 칼슘과 식이섬유를 ...</td>\n",
       "    </tr>\n",
       "  </tbody>\n",
       "</table>\n",
       "</div>"
      ],
      "text/plain": [
       "         요리    종류  난이도  소요시간  \\\n",
       "0  꼬시래기 물냉면  메인요리    1    20   \n",
       "\n",
       "                                                  링크  \\\n",
       "0  https://wtable.co.kr/recipes/GdRMuEBF9nXVJAtqw...   \n",
       "\n",
       "                                                  사진  \\\n",
       "0  https://static.wtable.co.kr/image/production/s...   \n",
       "\n",
       "                                                  재료  \\\n",
       "0  ['꼬시래기', '시판용 냉면육수', '오이', '삶은 달걀', '쌈무', '통깨'...   \n",
       "\n",
       "                                                요리방법  \\\n",
       "0  ['끓는 물에 소금, 식초, 꼬시래기를 넣어 30초 정도 데쳐주세요.\\r\\n(tip...   \n",
       "\n",
       "                                                  설명  \n",
       "0  꼬시래기는 해조류의 한 종류인데요. 지방, 탄수화물 함량이 낮고 칼슘과 식이섬유를 ...  "
      ]
     },
     "execution_count": 4,
     "metadata": {},
     "output_type": "execute_result"
    }
   ],
   "source": [
    "raw_recipes.head(1)"
   ]
  },
  {
   "attachments": {},
   "cell_type": "markdown",
   "metadata": {},
   "source": [
    "### 전처리 진행하기"
   ]
  },
  {
   "cell_type": "code",
   "execution_count": 5,
   "metadata": {},
   "outputs": [],
   "source": [
    "# 수기로 발견한 대표적인 불용어와 많은 레시피에 두루 포함되는 조미료 계열을 리스트 형태로 변수 할당\n",
    "stop_words = ['송송','썬','삶은','짤주머니','사각','X','곱게','리덕션','채썬',\n",
    "              '냉장','늙은','판','미니','집','흰','두절','레드','모양','같이','잘','익은',\n",
    "              '고운','익힌','주머니','건세모가사리','빨강','썰은','소분한','작은',\n",
    "              '마른','벗긴','밥심','뜨거운','따듯한','씨를','크기로','제거','생물','빨간',\n",
    "              '갈은','지은','데친','국물용','부순','꼬치','찬','차가운','빨간','중하',\n",
    "              '컬러','구멍','따뜻한','A','틀','초밥용','몽글몽귤','튜브','두꺼운','크기','모둠',\n",
    "              '해감한','와','구운','굵은','그린','굵게','익은','시판','것','없는','cm','상온',\n",
    "              '삶은','무첨가','이지잇','잘게', '자른','깐','찐','씻은','잡채용',\n",
    "              '고운', '면수']"
   ]
  },
  {
   "cell_type": "code",
   "execution_count": 6,
   "metadata": {},
   "outputs": [],
   "source": [
    "# 텍스트 전처리 (1차)\n",
    "def preprocessing(text):\n",
    "    '''\n",
    "    문자열을 전달하면 불용어, 중복, 공백을 제거하여 리스트 형태로 반환하는 함수\n",
    "\n",
    "    Args:\n",
    "    - 문자열 (예 : \"['순살 고등어', '청주(또는 맛술)', '소금', '소금']\")\n",
    "\n",
    "    Returns:\n",
    "    - 리스트 (예 : ['순살 고등어', '청주', '소금'])\n",
    "\n",
    "    Example:\n",
    "    >>> preprocessing(\"['순살 고등어', '청주(또는 맛술)', '소금', '소금']\")\n",
    "    ['순살고등어', '청주', '소금']\n",
    "    '''\n",
    "    process = eval(text)\n",
    "\n",
    "    process = [elem for elem in process if not re.search(r'\\*', elem)]\n",
    "    process = [elem.replace('\\xa0', '') for elem in process]\n",
    "    process = [elem.replace(' ', '') for elem in process]\n",
    "\n",
    "    process = ' '.join(set(process))\n",
    "    process = re.sub(r'\\([^)]*\\)', '', process).strip()\n",
    "    process = re.sub(r'[^가-힣ㄱ-ㅎㅏ-ㅣa-zA-Z]', ' ', process).strip()\n",
    "    pattern = '|'.join(stop_words)\n",
    "    process = re.sub(pattern, '', process)\n",
    "    process = re.sub(r'또는', ' ', process)\n",
    "\n",
    "    process = process.split(' ')\n",
    "\n",
    "    process = [elem for elem in process if elem != '']\n",
    "    \n",
    "    return process"
   ]
  },
  {
   "cell_type": "code",
   "execution_count": 7,
   "metadata": {},
   "outputs": [],
   "source": [
    "# 데이터 프레임 복사\n",
    "df = raw_recipes.copy()"
   ]
  },
  {
   "cell_type": "code",
   "execution_count": 8,
   "metadata": {},
   "outputs": [
    {
     "data": {
      "application/vnd.jupyter.widget-view+json": {
       "model_id": "8eccfa587d064b1497eeda19a90de571",
       "version_major": 2,
       "version_minor": 0
      },
      "text/plain": [
       "  0%|          | 0/4340 [00:00<?, ?it/s]"
      ]
     },
     "metadata": {},
     "output_type": "display_data"
    },
    {
     "data": {
      "text/plain": [
       "0       [통깨, 꼬시래기, 용냉면육수, 쌈무, 매실청, 참기름, 고춧가루, 소금, 달걀, ...\n",
       "1                  [통깨, 참기름, 닭가슴살, 찹쌀밥, 다진당근, 소금, 물, 통마늘]\n",
       "2       [양조식초, 통깨, 밥, 깻잎, 고추장, 다진마늘, 참기름, 설탕, 상추, 양파, ...\n",
       "3       [후춧가루, 올리고당, 땅콩가루, 굴소스, 다진마늘, 돼지등갈비, 통후추, 생강가루...\n",
       "4       [후춧가루, 파스타면, 케이퍼, 마늘, 루꼴라, 레몬제스트, 소금, 앤초비, 올리브오일]\n",
       "                              ...                        \n",
       "4335    [후춧가루, 대파, 청양고추, 다진마늘, 설탕, 홍고추, 신김치, 멸치다시마육수, ...\n",
       "4336    [후춧가루, 통깨, 대파, 밥, 닭다리살, 굴소스, 올리고당, 꽈리고추, 다진마늘,...\n",
       "4337    [후춧가루, 체다슬라이스치즈, 베이컨, 감자, 소금, 플레인요거트, 파슬리가루, 올...\n",
       "4338    [생강가루, 전분가루, 소금, 케첩, 순살고등어, 땅콩, 맛술, 간장, 물, 고추장...\n",
       "4339    [후춧가루, 디종머스타드, 파슬리, 코코넛밀크, 소금, 타임, 두유, 대파, 뉴트리...\n",
       "Name: 재료, Length: 4340, dtype: object"
      ]
     },
     "execution_count": 8,
     "metadata": {},
     "output_type": "execute_result"
    }
   ],
   "source": [
    "# 재료 컬럼에 텍스트 전처리 (1차) 적용\n",
    "df['재료'] = df['재료'].progress_map(preprocessing)\n",
    "df['재료']"
   ]
  },
  {
   "cell_type": "code",
   "execution_count": 9,
   "metadata": {},
   "outputs": [
    {
     "data": {
      "text/html": [
       "<div>\n",
       "<style scoped>\n",
       "    .dataframe tbody tr th:only-of-type {\n",
       "        vertical-align: middle;\n",
       "    }\n",
       "\n",
       "    .dataframe tbody tr th {\n",
       "        vertical-align: top;\n",
       "    }\n",
       "\n",
       "    .dataframe thead th {\n",
       "        text-align: right;\n",
       "    }\n",
       "</style>\n",
       "<table border=\"1\" class=\"dataframe\">\n",
       "  <thead>\n",
       "    <tr style=\"text-align: right;\">\n",
       "      <th></th>\n",
       "      <th>요리</th>\n",
       "      <th>종류</th>\n",
       "      <th>난이도</th>\n",
       "      <th>소요시간</th>\n",
       "      <th>링크</th>\n",
       "      <th>사진</th>\n",
       "      <th>재료</th>\n",
       "      <th>요리방법</th>\n",
       "      <th>설명</th>\n",
       "    </tr>\n",
       "  </thead>\n",
       "  <tbody>\n",
       "    <tr>\n",
       "      <th>0</th>\n",
       "      <td>꼬시래기 물냉면</td>\n",
       "      <td>메인요리</td>\n",
       "      <td>1</td>\n",
       "      <td>20</td>\n",
       "      <td>https://wtable.co.kr/recipes/GdRMuEBF9nXVJAtqw...</td>\n",
       "      <td>https://static.wtable.co.kr/image/production/s...</td>\n",
       "      <td>[통깨, 꼬시래기, 용냉면육수, 쌈무, 매실청, 참기름, 고춧가루, 소금, 달걀, ...</td>\n",
       "      <td>['끓는 물에 소금, 식초, 꼬시래기를 넣어 30초 정도 데쳐주세요.\\r\\n(tip...</td>\n",
       "      <td>꼬시래기는 해조류의 한 종류인데요. 지방, 탄수화물 함량이 낮고 칼슘과 식이섬유를 ...</td>\n",
       "    </tr>\n",
       "    <tr>\n",
       "      <th>1</th>\n",
       "      <td>닭죽</td>\n",
       "      <td>메인요리</td>\n",
       "      <td>1</td>\n",
       "      <td>30</td>\n",
       "      <td>https://wtable.co.kr/recipes/QawUyVgt3e5wvCT9d...</td>\n",
       "      <td>https://static.wtable.co.kr/image/production/s...</td>\n",
       "      <td>[통깨, 참기름, 닭가슴살, 찹쌀밥, 다진당근, 소금, 물, 통마늘]</td>\n",
       "      <td>['냄비에 물과 닭가슴살, 마늘, 대파를 넣고 15분간 삶아주세요. ', '삶은 닭...</td>\n",
       "      <td>아플 때나 기운이 없을 때 간단히 끓여 먹기 좋은 닭죽! 맛이 좋은 건 물론 속을 ...</td>\n",
       "    </tr>\n",
       "  </tbody>\n",
       "</table>\n",
       "</div>"
      ],
      "text/plain": [
       "         요리    종류  난이도  소요시간  \\\n",
       "0  꼬시래기 물냉면  메인요리    1    20   \n",
       "1        닭죽  메인요리    1    30   \n",
       "\n",
       "                                                  링크  \\\n",
       "0  https://wtable.co.kr/recipes/GdRMuEBF9nXVJAtqw...   \n",
       "1  https://wtable.co.kr/recipes/QawUyVgt3e5wvCT9d...   \n",
       "\n",
       "                                                  사진  \\\n",
       "0  https://static.wtable.co.kr/image/production/s...   \n",
       "1  https://static.wtable.co.kr/image/production/s...   \n",
       "\n",
       "                                                  재료  \\\n",
       "0  [통깨, 꼬시래기, 용냉면육수, 쌈무, 매실청, 참기름, 고춧가루, 소금, 달걀, ...   \n",
       "1             [통깨, 참기름, 닭가슴살, 찹쌀밥, 다진당근, 소금, 물, 통마늘]   \n",
       "\n",
       "                                                요리방법  \\\n",
       "0  ['끓는 물에 소금, 식초, 꼬시래기를 넣어 30초 정도 데쳐주세요.\\r\\n(tip...   \n",
       "1  ['냄비에 물과 닭가슴살, 마늘, 대파를 넣고 15분간 삶아주세요. ', '삶은 닭...   \n",
       "\n",
       "                                                  설명  \n",
       "0  꼬시래기는 해조류의 한 종류인데요. 지방, 탄수화물 함량이 낮고 칼슘과 식이섬유를 ...  \n",
       "1  아플 때나 기운이 없을 때 간단히 끓여 먹기 좋은 닭죽! 맛이 좋은 건 물론 속을 ...  "
      ]
     },
     "execution_count": 9,
     "metadata": {},
     "output_type": "execute_result"
    }
   ],
   "source": [
    "# 확인하기\n",
    "df.head(2)"
   ]
  },
  {
   "cell_type": "code",
   "execution_count": 10,
   "metadata": {},
   "outputs": [],
   "source": [
    "# 재료수 파생변수를 생성하는 함수\n",
    "def ingredients_count(text):\n",
    "    ing_count = len(text)\n",
    "    return ing_count"
   ]
  },
  {
   "cell_type": "code",
   "execution_count": 11,
   "metadata": {},
   "outputs": [
    {
     "data": {
      "application/vnd.jupyter.widget-view+json": {
       "model_id": "4e1eb1ad134e40258bb8d532fa069e77",
       "version_major": 2,
       "version_minor": 0
      },
      "text/plain": [
       "  0%|          | 0/4340 [00:00<?, ?it/s]"
      ]
     },
     "metadata": {},
     "output_type": "display_data"
    },
    {
     "data": {
      "text/html": [
       "<div>\n",
       "<style scoped>\n",
       "    .dataframe tbody tr th:only-of-type {\n",
       "        vertical-align: middle;\n",
       "    }\n",
       "\n",
       "    .dataframe tbody tr th {\n",
       "        vertical-align: top;\n",
       "    }\n",
       "\n",
       "    .dataframe thead th {\n",
       "        text-align: right;\n",
       "    }\n",
       "</style>\n",
       "<table border=\"1\" class=\"dataframe\">\n",
       "  <thead>\n",
       "    <tr style=\"text-align: right;\">\n",
       "      <th></th>\n",
       "      <th>요리</th>\n",
       "      <th>종류</th>\n",
       "      <th>난이도</th>\n",
       "      <th>소요시간</th>\n",
       "      <th>링크</th>\n",
       "      <th>사진</th>\n",
       "      <th>재료</th>\n",
       "      <th>요리방법</th>\n",
       "      <th>설명</th>\n",
       "      <th>재료수</th>\n",
       "    </tr>\n",
       "  </thead>\n",
       "  <tbody>\n",
       "    <tr>\n",
       "      <th>0</th>\n",
       "      <td>꼬시래기 물냉면</td>\n",
       "      <td>메인요리</td>\n",
       "      <td>1</td>\n",
       "      <td>20</td>\n",
       "      <td>https://wtable.co.kr/recipes/GdRMuEBF9nXVJAtqw...</td>\n",
       "      <td>https://static.wtable.co.kr/image/production/s...</td>\n",
       "      <td>[통깨, 꼬시래기, 용냉면육수, 쌈무, 매실청, 참기름, 고춧가루, 소금, 달걀, ...</td>\n",
       "      <td>['끓는 물에 소금, 식초, 꼬시래기를 넣어 30초 정도 데쳐주세요.\\r\\n(tip...</td>\n",
       "      <td>꼬시래기는 해조류의 한 종류인데요. 지방, 탄수화물 함량이 낮고 칼슘과 식이섬유를 ...</td>\n",
       "      <td>12</td>\n",
       "    </tr>\n",
       "    <tr>\n",
       "      <th>1</th>\n",
       "      <td>닭죽</td>\n",
       "      <td>메인요리</td>\n",
       "      <td>1</td>\n",
       "      <td>30</td>\n",
       "      <td>https://wtable.co.kr/recipes/QawUyVgt3e5wvCT9d...</td>\n",
       "      <td>https://static.wtable.co.kr/image/production/s...</td>\n",
       "      <td>[통깨, 참기름, 닭가슴살, 찹쌀밥, 다진당근, 소금, 물, 통마늘]</td>\n",
       "      <td>['냄비에 물과 닭가슴살, 마늘, 대파를 넣고 15분간 삶아주세요. ', '삶은 닭...</td>\n",
       "      <td>아플 때나 기운이 없을 때 간단히 끓여 먹기 좋은 닭죽! 맛이 좋은 건 물론 속을 ...</td>\n",
       "      <td>8</td>\n",
       "    </tr>\n",
       "  </tbody>\n",
       "</table>\n",
       "</div>"
      ],
      "text/plain": [
       "         요리    종류  난이도  소요시간  \\\n",
       "0  꼬시래기 물냉면  메인요리    1    20   \n",
       "1        닭죽  메인요리    1    30   \n",
       "\n",
       "                                                  링크  \\\n",
       "0  https://wtable.co.kr/recipes/GdRMuEBF9nXVJAtqw...   \n",
       "1  https://wtable.co.kr/recipes/QawUyVgt3e5wvCT9d...   \n",
       "\n",
       "                                                  사진  \\\n",
       "0  https://static.wtable.co.kr/image/production/s...   \n",
       "1  https://static.wtable.co.kr/image/production/s...   \n",
       "\n",
       "                                                  재료  \\\n",
       "0  [통깨, 꼬시래기, 용냉면육수, 쌈무, 매실청, 참기름, 고춧가루, 소금, 달걀, ...   \n",
       "1             [통깨, 참기름, 닭가슴살, 찹쌀밥, 다진당근, 소금, 물, 통마늘]   \n",
       "\n",
       "                                                요리방법  \\\n",
       "0  ['끓는 물에 소금, 식초, 꼬시래기를 넣어 30초 정도 데쳐주세요.\\r\\n(tip...   \n",
       "1  ['냄비에 물과 닭가슴살, 마늘, 대파를 넣고 15분간 삶아주세요. ', '삶은 닭...   \n",
       "\n",
       "                                                  설명  재료수  \n",
       "0  꼬시래기는 해조류의 한 종류인데요. 지방, 탄수화물 함량이 낮고 칼슘과 식이섬유를 ...   12  \n",
       "1  아플 때나 기운이 없을 때 간단히 끓여 먹기 좋은 닭죽! 맛이 좋은 건 물론 속을 ...    8  "
      ]
     },
     "execution_count": 11,
     "metadata": {},
     "output_type": "execute_result"
    }
   ],
   "source": [
    "# 재료 컬럼에 재료수 파생변수 생성\n",
    "df['재료수'] = df['재료'].progress_map(ingredients_count)\n",
    "df.head(2)"
   ]
  },
  {
   "cell_type": "code",
   "execution_count": 12,
   "metadata": {},
   "outputs": [],
   "source": [
    "# 텍스트 전처리 (2차)\n",
    "def preprocessing2(list):\n",
    "    '''\n",
    "    리스트를 전달하면 공백으로 구분된 하나의 문자열로 반환하는 함수\n",
    "\n",
    "    Args:\n",
    "    - 리스트 (예 : ['순살 고등어', '청주', '소금'])\n",
    "\n",
    "    Returns:\n",
    "    - 문자열 (예 : \"순살고등어 청주 소금\")\n",
    "\n",
    "    Example:\n",
    "    >>> preprocessing2(['순살 고등어', '청주', '소금'])\n",
    "    \"순살고등어 청주 소금\"\n",
    "    '''\n",
    "    process = str(list)\n",
    "    process = eval(process)\n",
    "    process = ' '.join(set(process))\n",
    "\n",
    "    return process"
   ]
  },
  {
   "cell_type": "code",
   "execution_count": 13,
   "metadata": {},
   "outputs": [
    {
     "data": {
      "application/vnd.jupyter.widget-view+json": {
       "model_id": "d3dcd83cdbe341389002b87a1be45c9a",
       "version_major": 2,
       "version_minor": 0
      },
      "text/plain": [
       "  0%|          | 0/4340 [00:00<?, ?it/s]"
      ]
     },
     "metadata": {},
     "output_type": "display_data"
    },
    {
     "data": {
      "text/html": [
       "<div>\n",
       "<style scoped>\n",
       "    .dataframe tbody tr th:only-of-type {\n",
       "        vertical-align: middle;\n",
       "    }\n",
       "\n",
       "    .dataframe tbody tr th {\n",
       "        vertical-align: top;\n",
       "    }\n",
       "\n",
       "    .dataframe thead th {\n",
       "        text-align: right;\n",
       "    }\n",
       "</style>\n",
       "<table border=\"1\" class=\"dataframe\">\n",
       "  <thead>\n",
       "    <tr style=\"text-align: right;\">\n",
       "      <th></th>\n",
       "      <th>요리</th>\n",
       "      <th>종류</th>\n",
       "      <th>난이도</th>\n",
       "      <th>소요시간</th>\n",
       "      <th>링크</th>\n",
       "      <th>사진</th>\n",
       "      <th>재료</th>\n",
       "      <th>요리방법</th>\n",
       "      <th>설명</th>\n",
       "      <th>재료수</th>\n",
       "    </tr>\n",
       "  </thead>\n",
       "  <tbody>\n",
       "    <tr>\n",
       "      <th>0</th>\n",
       "      <td>꼬시래기 물냉면</td>\n",
       "      <td>메인요리</td>\n",
       "      <td>1</td>\n",
       "      <td>20</td>\n",
       "      <td>https://wtable.co.kr/recipes/GdRMuEBF9nXVJAtqw...</td>\n",
       "      <td>https://static.wtable.co.kr/image/production/s...</td>\n",
       "      <td>통깨 꼬시래기 식초 용냉면육수 매실청 쌈무 참기름 고춧가루 소금 오이 고추장 달걀</td>\n",
       "      <td>['끓는 물에 소금, 식초, 꼬시래기를 넣어 30초 정도 데쳐주세요.\\r\\n(tip...</td>\n",
       "      <td>꼬시래기는 해조류의 한 종류인데요. 지방, 탄수화물 함량이 낮고 칼슘과 식이섬유를 ...</td>\n",
       "      <td>12</td>\n",
       "    </tr>\n",
       "    <tr>\n",
       "      <th>1</th>\n",
       "      <td>닭죽</td>\n",
       "      <td>메인요리</td>\n",
       "      <td>1</td>\n",
       "      <td>30</td>\n",
       "      <td>https://wtable.co.kr/recipes/QawUyVgt3e5wvCT9d...</td>\n",
       "      <td>https://static.wtable.co.kr/image/production/s...</td>\n",
       "      <td>통깨 참기름 닭가슴살 찹쌀밥 다진당근 소금 물 통마늘</td>\n",
       "      <td>['냄비에 물과 닭가슴살, 마늘, 대파를 넣고 15분간 삶아주세요. ', '삶은 닭...</td>\n",
       "      <td>아플 때나 기운이 없을 때 간단히 끓여 먹기 좋은 닭죽! 맛이 좋은 건 물론 속을 ...</td>\n",
       "      <td>8</td>\n",
       "    </tr>\n",
       "  </tbody>\n",
       "</table>\n",
       "</div>"
      ],
      "text/plain": [
       "         요리    종류  난이도  소요시간  \\\n",
       "0  꼬시래기 물냉면  메인요리    1    20   \n",
       "1        닭죽  메인요리    1    30   \n",
       "\n",
       "                                                  링크  \\\n",
       "0  https://wtable.co.kr/recipes/GdRMuEBF9nXVJAtqw...   \n",
       "1  https://wtable.co.kr/recipes/QawUyVgt3e5wvCT9d...   \n",
       "\n",
       "                                                  사진  \\\n",
       "0  https://static.wtable.co.kr/image/production/s...   \n",
       "1  https://static.wtable.co.kr/image/production/s...   \n",
       "\n",
       "                                              재료  \\\n",
       "0  통깨 꼬시래기 식초 용냉면육수 매실청 쌈무 참기름 고춧가루 소금 오이 고추장 달걀   \n",
       "1                  통깨 참기름 닭가슴살 찹쌀밥 다진당근 소금 물 통마늘   \n",
       "\n",
       "                                                요리방법  \\\n",
       "0  ['끓는 물에 소금, 식초, 꼬시래기를 넣어 30초 정도 데쳐주세요.\\r\\n(tip...   \n",
       "1  ['냄비에 물과 닭가슴살, 마늘, 대파를 넣고 15분간 삶아주세요. ', '삶은 닭...   \n",
       "\n",
       "                                                  설명  재료수  \n",
       "0  꼬시래기는 해조류의 한 종류인데요. 지방, 탄수화물 함량이 낮고 칼슘과 식이섬유를 ...   12  \n",
       "1  아플 때나 기운이 없을 때 간단히 끓여 먹기 좋은 닭죽! 맛이 좋은 건 물론 속을 ...    8  "
      ]
     },
     "execution_count": 13,
     "metadata": {},
     "output_type": "execute_result"
    }
   ],
   "source": [
    "# 재료 컬럼에 텍스트 전처리 (2차) 적용\n",
    "df['재료'] = df['재료'].progress_map(preprocessing2)\n",
    "df.head(2)"
   ]
  },
  {
   "cell_type": "code",
   "execution_count": 14,
   "metadata": {},
   "outputs": [],
   "source": [
    "# csv 파일로 저장하고 불러오기\n",
    "df.to_csv('data/preprocessed_recipes.csv', index=False)\n",
    "n_df = pd.read_csv('data/preprocessed_recipes.csv')"
   ]
  },
  {
   "cell_type": "code",
   "execution_count": 15,
   "metadata": {},
   "outputs": [
    {
     "data": {
      "text/html": [
       "<div>\n",
       "<style scoped>\n",
       "    .dataframe tbody tr th:only-of-type {\n",
       "        vertical-align: middle;\n",
       "    }\n",
       "\n",
       "    .dataframe tbody tr th {\n",
       "        vertical-align: top;\n",
       "    }\n",
       "\n",
       "    .dataframe thead th {\n",
       "        text-align: right;\n",
       "    }\n",
       "</style>\n",
       "<table border=\"1\" class=\"dataframe\">\n",
       "  <thead>\n",
       "    <tr style=\"text-align: right;\">\n",
       "      <th></th>\n",
       "      <th>요리</th>\n",
       "      <th>종류</th>\n",
       "      <th>난이도</th>\n",
       "      <th>소요시간</th>\n",
       "      <th>링크</th>\n",
       "      <th>사진</th>\n",
       "      <th>재료</th>\n",
       "      <th>요리방법</th>\n",
       "      <th>설명</th>\n",
       "      <th>재료수</th>\n",
       "    </tr>\n",
       "  </thead>\n",
       "  <tbody>\n",
       "  </tbody>\n",
       "</table>\n",
       "</div>"
      ],
      "text/plain": [
       "Empty DataFrame\n",
       "Columns: [요리, 종류, 난이도, 소요시간, 링크, 사진, 재료, 요리방법, 설명, 재료수]\n",
       "Index: []"
      ]
     },
     "execution_count": 15,
     "metadata": {},
     "output_type": "execute_result"
    }
   ],
   "source": [
    "# 불용어 제거 확인하기 \n",
    "filtered_df = n_df[n_df['재료'].apply(lambda x: any(word in x for word in stop_words))]\n",
    "filtered_df "
   ]
  },
  {
   "cell_type": "code",
   "execution_count": 16,
   "metadata": {},
   "outputs": [],
   "source": [
    "# 텍스트 전처리 전과 후를 비교하는 함수\n",
    "def sample_test(origin_df, processed_df, column_name):\n",
    "    sample = origin_df.sample(1)[column_name]\n",
    "    processed_sample = processed_df.iloc[list(sample.index)][column_name]\n",
    "    with pd.option_context('display.max_colwidth', None):\n",
    "        return display(sample.to_string(index=False), processed_sample.to_string(index=False))"
   ]
  },
  {
   "cell_type": "code",
   "execution_count": 17,
   "metadata": {},
   "outputs": [
    {
     "data": {
      "text/plain": [
       "\"['고등어', '삶은 무우', '삶은 통연근', '삶은 통우엉', '생강편', '파채', '설탕', '고춧가루', '정종', '미림', '양조간장']\""
      ]
     },
     "metadata": {},
     "output_type": "display_data"
    },
    {
     "data": {
      "text/plain": [
       "'고등어 생강편 통연근 무우 설탕 미림 고춧가루 양조간장 정종 파채 통우엉'"
      ]
     },
     "metadata": {},
     "output_type": "display_data"
    }
   ],
   "source": [
    "# 실행할 때 마다 sample 무작위로 변경하면서 확인 가능\n",
    "sample_test(raw_recipes, df, '재료')"
   ]
  }
 ],
 "metadata": {
  "kernelspec": {
   "display_name": "base",
   "language": "python",
   "name": "python3"
  },
  "language_info": {
   "codemirror_mode": {
    "name": "ipython",
    "version": 3
   },
   "file_extension": ".py",
   "mimetype": "text/x-python",
   "name": "python",
   "nbconvert_exporter": "python",
   "pygments_lexer": "ipython3",
   "version": "3.10.9"
  },
  "orig_nbformat": 4
 },
 "nbformat": 4,
 "nbformat_minor": 2
}
